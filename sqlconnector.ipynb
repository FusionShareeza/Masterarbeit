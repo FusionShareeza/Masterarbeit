{
 "cells": [
  {
   "cell_type": "code",
   "execution_count": 148,
   "metadata": {},
   "outputs": [
    {
     "name": "stdout",
     "output_type": "stream",
     "text": [
      "Tensorflow/Keras: 2.12.0\n"
     ]
    }
   ],
   "source": [
    "#data preprocessing\n",
    "import numpy as np\n",
    "import pyodbc\n",
    "import pandas as pd\n",
    "\n",
    "#ml stuff\n",
    "import sklearn\n",
    "from sklearn.model_selection import train_test_split\n",
    "from tensorflow import keras \n",
    "import tensorflow as tf\n",
    "print('Tensorflow/Keras: %s' % keras.__version__)\n",
    "from keras.models import Sequential \n",
    "from keras import Input \n",
    "from keras.layers import Dense\n",
    "from sklearn.neural_network import MLPClassifier\n",
    "from sklearn.neural_network import MLPRegressor\n",
    "from sklearn.ensemble import RandomForestClassifier\n",
    "from sklearn import preprocessing\n",
    "from sklearn.cluster import KMeans\n",
    "from keras.models import Sequential\n",
    "from keras.layers import Dense\n",
    "from keras.wrappers.scikit_learn import KerasClassifier\n",
    "from keras.wrappers.scikit_learn import KerasRegressor\n",
    "from sklearn.model_selection import GridSearchCV\n",
    "from sklearn.preprocessing import StandardScaler\n",
    "from sklearn.pipeline import Pipeline\n",
    "from sklearn.model_selection import cross_val_score\n",
    "from sklearn.model_selection import KFold\n",
    "from sklearn.datasets import make_regression\n",
    "from sklearn.preprocessing import LabelEncoder\n",
    "from sklearn.metrics import classification_report\n",
    "from sklearn.metrics import accuracy_score\n",
    "import itertools\n",
    "import functools\n",
    "import operator \n",
    "from more_itertools import flatten\n",
    "from collections import Counter\n",
    "\n",
    "#utils/visualization\n",
    "import time\n",
    "from datetime import timedelta\n",
    "import matplotlib.pyplot as plt\n",
    "import seaborn as sns\n",
    "import dill as pickle\n",
    "from ydata_profiling import ProfileReport\n",
    "import plotly.graph_objs as go\n",
    "import plotly.tools as tls\n",
    "import plotly.express as px\n",
    "\n",
    "#config vars\n",
    "pd.options.display.max_columns=50\n",
    "pd.options.display.max_rows = 10000\n",
    "verbose=1"
   ]
  },
  {
   "attachments": {},
   "cell_type": "markdown",
   "metadata": {},
   "source": [
    "# Connect to Database and get Data"
   ]
  },
  {
   "cell_type": "code",
   "execution_count": 2,
   "metadata": {},
   "outputs": [],
   "source": [
    "def connect_to_db(connection_string,\n",
    "                    database,\n",
    "                    driver = 'SQL Server Native Client 11.0',\n",
    "                    user = 'CCAdmin',\n",
    "                    password = 'Miw6RjnTGmPHLYF9mG1o'\n",
    "):\n",
    "    connection = pyodbc.connect(\"Driver={\"+driver+\"};\"\n",
    "                        \"Server=\"+connection_string+\";\"\n",
    "                        \"Database=\"+database+\";\"\n",
    "                        \"uid=\"+user+\";pwd=\"+password+\"\")\n",
    "    return connection"
   ]
  },
  {
   "cell_type": "code",
   "execution_count": 3,
   "metadata": {},
   "outputs": [],
   "source": [
    "def get_table_data(table_name, connection):\n",
    "    query = \"SELECT * FROM {}\".format(table_name)\n",
    "    df = pd.read_sql_query(query, connection)\n",
    "\n",
    "    return df"
   ]
  },
  {
   "cell_type": "code",
   "execution_count": 197,
   "metadata": {},
   "outputs": [],
   "source": [
    "tenant = '000git'"
   ]
  },
  {
   "cell_type": "code",
   "execution_count": 187,
   "metadata": {},
   "outputs": [
    {
     "name": "stderr",
     "output_type": "stream",
     "text": [
      "C:\\Users\\lete\\AppData\\Local\\Temp\\ipykernel_7672\\2297382259.py:3: UserWarning:\n",
      "\n",
      "pandas only supports SQLAlchemy connectable (engine/connection) or database string URI or sqlite3 DBAPI2 connection. Other DBAPI2 objects are not tested. Please consider using SQLAlchemy.\n",
      "\n"
     ]
    }
   ],
   "source": [
    "\n",
    "#get all tables\n",
    "#cursor = connect_to_db().cursor()\n",
    "#tables_list = list(cursor.tables())\n",
    "\n",
    "#connection_string='classconprocessingger.database.windows.net'\n",
    "\n",
    "df_table_cclogattributes = get_table_data('CCLogAttributes', connect_to_db(connection_string= 'classconprocessingger.database.windows.net', database = 'T_'+tenant+''))\n",
    "#df_table_cclogdocuments = get_table_data('CCLogDocuments', connect_to_db(database='T_0000xu'))\n",
    "#df_table_cclogdocuments.to_pickle(df_table_cclogattributes)\n",
    "\n",
    "#df_table_cclogattributes = df_table_cclogattributes.drop('LogTime', axis=1)\n",
    "df_table_cclogattributes = df_table_cclogattributes.drop(['Zone','Attribute_DataType','LogTimeTicks'], axis=1)\n",
    "\n",
    "df_table_cclogattributes = df_table_cclogattributes.replace('\\n',' ', regex=True)\n",
    "df_table_cclogattributes = df_table_cclogattributes.replace('\\r',' ', regex=True)\n",
    "df_table_cclogattributes.to_csv('data/cclogattributes_T_'+tenant+'.csv', index=False, header= True, encoding='utf-8')#iso-8859-15\n"
   ]
  },
  {
   "attachments": {},
   "cell_type": "markdown",
   "metadata": {},
   "source": [
    "# Data analysis\n"
   ]
  },
  {
   "cell_type": "code",
   "execution_count": 44,
   "metadata": {},
   "outputs": [],
   "source": [
    "#df.head()\n",
    "#ProfileReport(df)"
   ]
  },
  {
   "cell_type": "code",
   "execution_count": 5,
   "metadata": {
    "tags": [
     "asdf"
    ]
   },
   "outputs": [
    {
     "data": {
      "application/vnd.plotly.v1+json": {
       "config": {
        "plotlyServerURL": "https://plot.ly"
       },
       "data": [
        {
         "insidetextorientation": "auto",
         "labels": [
          false,
          true
         ],
         "marker": {
          "line": {
           "color": "#000000",
           "width": 0.5
          }
         },
         "pull": [
          0,
          0
         ],
         "textinfo": "value+percent",
         "type": "pie",
         "values": [
          394974,
          14945
         ]
        }
       ],
       "layout": {
        "template": {
         "data": {
          "bar": [
           {
            "error_x": {
             "color": "#2a3f5f"
            },
            "error_y": {
             "color": "#2a3f5f"
            },
            "marker": {
             "line": {
              "color": "#E5ECF6",
              "width": 0.5
             },
             "pattern": {
              "fillmode": "overlay",
              "size": 10,
              "solidity": 0.2
             }
            },
            "type": "bar"
           }
          ],
          "barpolar": [
           {
            "marker": {
             "line": {
              "color": "#E5ECF6",
              "width": 0.5
             },
             "pattern": {
              "fillmode": "overlay",
              "size": 10,
              "solidity": 0.2
             }
            },
            "type": "barpolar"
           }
          ],
          "carpet": [
           {
            "aaxis": {
             "endlinecolor": "#2a3f5f",
             "gridcolor": "white",
             "linecolor": "white",
             "minorgridcolor": "white",
             "startlinecolor": "#2a3f5f"
            },
            "baxis": {
             "endlinecolor": "#2a3f5f",
             "gridcolor": "white",
             "linecolor": "white",
             "minorgridcolor": "white",
             "startlinecolor": "#2a3f5f"
            },
            "type": "carpet"
           }
          ],
          "choropleth": [
           {
            "colorbar": {
             "outlinewidth": 0,
             "ticks": ""
            },
            "type": "choropleth"
           }
          ],
          "contour": [
           {
            "colorbar": {
             "outlinewidth": 0,
             "ticks": ""
            },
            "colorscale": [
             [
              0,
              "#0d0887"
             ],
             [
              0.1111111111111111,
              "#46039f"
             ],
             [
              0.2222222222222222,
              "#7201a8"
             ],
             [
              0.3333333333333333,
              "#9c179e"
             ],
             [
              0.4444444444444444,
              "#bd3786"
             ],
             [
              0.5555555555555556,
              "#d8576b"
             ],
             [
              0.6666666666666666,
              "#ed7953"
             ],
             [
              0.7777777777777778,
              "#fb9f3a"
             ],
             [
              0.8888888888888888,
              "#fdca26"
             ],
             [
              1,
              "#f0f921"
             ]
            ],
            "type": "contour"
           }
          ],
          "contourcarpet": [
           {
            "colorbar": {
             "outlinewidth": 0,
             "ticks": ""
            },
            "type": "contourcarpet"
           }
          ],
          "heatmap": [
           {
            "colorbar": {
             "outlinewidth": 0,
             "ticks": ""
            },
            "colorscale": [
             [
              0,
              "#0d0887"
             ],
             [
              0.1111111111111111,
              "#46039f"
             ],
             [
              0.2222222222222222,
              "#7201a8"
             ],
             [
              0.3333333333333333,
              "#9c179e"
             ],
             [
              0.4444444444444444,
              "#bd3786"
             ],
             [
              0.5555555555555556,
              "#d8576b"
             ],
             [
              0.6666666666666666,
              "#ed7953"
             ],
             [
              0.7777777777777778,
              "#fb9f3a"
             ],
             [
              0.8888888888888888,
              "#fdca26"
             ],
             [
              1,
              "#f0f921"
             ]
            ],
            "type": "heatmap"
           }
          ],
          "heatmapgl": [
           {
            "colorbar": {
             "outlinewidth": 0,
             "ticks": ""
            },
            "colorscale": [
             [
              0,
              "#0d0887"
             ],
             [
              0.1111111111111111,
              "#46039f"
             ],
             [
              0.2222222222222222,
              "#7201a8"
             ],
             [
              0.3333333333333333,
              "#9c179e"
             ],
             [
              0.4444444444444444,
              "#bd3786"
             ],
             [
              0.5555555555555556,
              "#d8576b"
             ],
             [
              0.6666666666666666,
              "#ed7953"
             ],
             [
              0.7777777777777778,
              "#fb9f3a"
             ],
             [
              0.8888888888888888,
              "#fdca26"
             ],
             [
              1,
              "#f0f921"
             ]
            ],
            "type": "heatmapgl"
           }
          ],
          "histogram": [
           {
            "marker": {
             "pattern": {
              "fillmode": "overlay",
              "size": 10,
              "solidity": 0.2
             }
            },
            "type": "histogram"
           }
          ],
          "histogram2d": [
           {
            "colorbar": {
             "outlinewidth": 0,
             "ticks": ""
            },
            "colorscale": [
             [
              0,
              "#0d0887"
             ],
             [
              0.1111111111111111,
              "#46039f"
             ],
             [
              0.2222222222222222,
              "#7201a8"
             ],
             [
              0.3333333333333333,
              "#9c179e"
             ],
             [
              0.4444444444444444,
              "#bd3786"
             ],
             [
              0.5555555555555556,
              "#d8576b"
             ],
             [
              0.6666666666666666,
              "#ed7953"
             ],
             [
              0.7777777777777778,
              "#fb9f3a"
             ],
             [
              0.8888888888888888,
              "#fdca26"
             ],
             [
              1,
              "#f0f921"
             ]
            ],
            "type": "histogram2d"
           }
          ],
          "histogram2dcontour": [
           {
            "colorbar": {
             "outlinewidth": 0,
             "ticks": ""
            },
            "colorscale": [
             [
              0,
              "#0d0887"
             ],
             [
              0.1111111111111111,
              "#46039f"
             ],
             [
              0.2222222222222222,
              "#7201a8"
             ],
             [
              0.3333333333333333,
              "#9c179e"
             ],
             [
              0.4444444444444444,
              "#bd3786"
             ],
             [
              0.5555555555555556,
              "#d8576b"
             ],
             [
              0.6666666666666666,
              "#ed7953"
             ],
             [
              0.7777777777777778,
              "#fb9f3a"
             ],
             [
              0.8888888888888888,
              "#fdca26"
             ],
             [
              1,
              "#f0f921"
             ]
            ],
            "type": "histogram2dcontour"
           }
          ],
          "mesh3d": [
           {
            "colorbar": {
             "outlinewidth": 0,
             "ticks": ""
            },
            "type": "mesh3d"
           }
          ],
          "parcoords": [
           {
            "line": {
             "colorbar": {
              "outlinewidth": 0,
              "ticks": ""
             }
            },
            "type": "parcoords"
           }
          ],
          "pie": [
           {
            "automargin": true,
            "type": "pie"
           }
          ],
          "scatter": [
           {
            "fillpattern": {
             "fillmode": "overlay",
             "size": 10,
             "solidity": 0.2
            },
            "type": "scatter"
           }
          ],
          "scatter3d": [
           {
            "line": {
             "colorbar": {
              "outlinewidth": 0,
              "ticks": ""
             }
            },
            "marker": {
             "colorbar": {
              "outlinewidth": 0,
              "ticks": ""
             }
            },
            "type": "scatter3d"
           }
          ],
          "scattercarpet": [
           {
            "marker": {
             "colorbar": {
              "outlinewidth": 0,
              "ticks": ""
             }
            },
            "type": "scattercarpet"
           }
          ],
          "scattergeo": [
           {
            "marker": {
             "colorbar": {
              "outlinewidth": 0,
              "ticks": ""
             }
            },
            "type": "scattergeo"
           }
          ],
          "scattergl": [
           {
            "marker": {
             "colorbar": {
              "outlinewidth": 0,
              "ticks": ""
             }
            },
            "type": "scattergl"
           }
          ],
          "scattermapbox": [
           {
            "marker": {
             "colorbar": {
              "outlinewidth": 0,
              "ticks": ""
             }
            },
            "type": "scattermapbox"
           }
          ],
          "scatterpolar": [
           {
            "marker": {
             "colorbar": {
              "outlinewidth": 0,
              "ticks": ""
             }
            },
            "type": "scatterpolar"
           }
          ],
          "scatterpolargl": [
           {
            "marker": {
             "colorbar": {
              "outlinewidth": 0,
              "ticks": ""
             }
            },
            "type": "scatterpolargl"
           }
          ],
          "scatterternary": [
           {
            "marker": {
             "colorbar": {
              "outlinewidth": 0,
              "ticks": ""
             }
            },
            "type": "scatterternary"
           }
          ],
          "surface": [
           {
            "colorbar": {
             "outlinewidth": 0,
             "ticks": ""
            },
            "colorscale": [
             [
              0,
              "#0d0887"
             ],
             [
              0.1111111111111111,
              "#46039f"
             ],
             [
              0.2222222222222222,
              "#7201a8"
             ],
             [
              0.3333333333333333,
              "#9c179e"
             ],
             [
              0.4444444444444444,
              "#bd3786"
             ],
             [
              0.5555555555555556,
              "#d8576b"
             ],
             [
              0.6666666666666666,
              "#ed7953"
             ],
             [
              0.7777777777777778,
              "#fb9f3a"
             ],
             [
              0.8888888888888888,
              "#fdca26"
             ],
             [
              1,
              "#f0f921"
             ]
            ],
            "type": "surface"
           }
          ],
          "table": [
           {
            "cells": {
             "fill": {
              "color": "#EBF0F8"
             },
             "line": {
              "color": "white"
             }
            },
            "header": {
             "fill": {
              "color": "#C8D4E3"
             },
             "line": {
              "color": "white"
             }
            },
            "type": "table"
           }
          ]
         },
         "layout": {
          "annotationdefaults": {
           "arrowcolor": "#2a3f5f",
           "arrowhead": 0,
           "arrowwidth": 1
          },
          "autotypenumbers": "strict",
          "coloraxis": {
           "colorbar": {
            "outlinewidth": 0,
            "ticks": ""
           }
          },
          "colorscale": {
           "diverging": [
            [
             0,
             "#8e0152"
            ],
            [
             0.1,
             "#c51b7d"
            ],
            [
             0.2,
             "#de77ae"
            ],
            [
             0.3,
             "#f1b6da"
            ],
            [
             0.4,
             "#fde0ef"
            ],
            [
             0.5,
             "#f7f7f7"
            ],
            [
             0.6,
             "#e6f5d0"
            ],
            [
             0.7,
             "#b8e186"
            ],
            [
             0.8,
             "#7fbc41"
            ],
            [
             0.9,
             "#4d9221"
            ],
            [
             1,
             "#276419"
            ]
           ],
           "sequential": [
            [
             0,
             "#0d0887"
            ],
            [
             0.1111111111111111,
             "#46039f"
            ],
            [
             0.2222222222222222,
             "#7201a8"
            ],
            [
             0.3333333333333333,
             "#9c179e"
            ],
            [
             0.4444444444444444,
             "#bd3786"
            ],
            [
             0.5555555555555556,
             "#d8576b"
            ],
            [
             0.6666666666666666,
             "#ed7953"
            ],
            [
             0.7777777777777778,
             "#fb9f3a"
            ],
            [
             0.8888888888888888,
             "#fdca26"
            ],
            [
             1,
             "#f0f921"
            ]
           ],
           "sequentialminus": [
            [
             0,
             "#0d0887"
            ],
            [
             0.1111111111111111,
             "#46039f"
            ],
            [
             0.2222222222222222,
             "#7201a8"
            ],
            [
             0.3333333333333333,
             "#9c179e"
            ],
            [
             0.4444444444444444,
             "#bd3786"
            ],
            [
             0.5555555555555556,
             "#d8576b"
            ],
            [
             0.6666666666666666,
             "#ed7953"
            ],
            [
             0.7777777777777778,
             "#fb9f3a"
            ],
            [
             0.8888888888888888,
             "#fdca26"
            ],
            [
             1,
             "#f0f921"
            ]
           ]
          },
          "colorway": [
           "#636efa",
           "#EF553B",
           "#00cc96",
           "#ab63fa",
           "#FFA15A",
           "#19d3f3",
           "#FF6692",
           "#B6E880",
           "#FF97FF",
           "#FECB52"
          ],
          "font": {
           "color": "#2a3f5f"
          },
          "geo": {
           "bgcolor": "white",
           "lakecolor": "white",
           "landcolor": "#E5ECF6",
           "showlakes": true,
           "showland": true,
           "subunitcolor": "white"
          },
          "hoverlabel": {
           "align": "left"
          },
          "hovermode": "closest",
          "mapbox": {
           "style": "light"
          },
          "paper_bgcolor": "white",
          "plot_bgcolor": "#E5ECF6",
          "polar": {
           "angularaxis": {
            "gridcolor": "white",
            "linecolor": "white",
            "ticks": ""
           },
           "bgcolor": "#E5ECF6",
           "radialaxis": {
            "gridcolor": "white",
            "linecolor": "white",
            "ticks": ""
           }
          },
          "scene": {
           "xaxis": {
            "backgroundcolor": "#E5ECF6",
            "gridcolor": "white",
            "gridwidth": 2,
            "linecolor": "white",
            "showbackground": true,
            "ticks": "",
            "zerolinecolor": "white"
           },
           "yaxis": {
            "backgroundcolor": "#E5ECF6",
            "gridcolor": "white",
            "gridwidth": 2,
            "linecolor": "white",
            "showbackground": true,
            "ticks": "",
            "zerolinecolor": "white"
           },
           "zaxis": {
            "backgroundcolor": "#E5ECF6",
            "gridcolor": "white",
            "gridwidth": 2,
            "linecolor": "white",
            "showbackground": true,
            "ticks": "",
            "zerolinecolor": "white"
           }
          },
          "shapedefaults": {
           "line": {
            "color": "#2a3f5f"
           }
          },
          "ternary": {
           "aaxis": {
            "gridcolor": "white",
            "linecolor": "white",
            "ticks": ""
           },
           "baxis": {
            "gridcolor": "white",
            "linecolor": "white",
            "ticks": ""
           },
           "bgcolor": "#E5ECF6",
           "caxis": {
            "gridcolor": "white",
            "linecolor": "white",
            "ticks": ""
           }
          },
          "title": {
           "x": 0.05
          },
          "xaxis": {
           "automargin": true,
           "gridcolor": "white",
           "linecolor": "white",
           "ticks": "",
           "title": {
            "standoff": 15
           },
           "zerolinecolor": "white",
           "zerolinewidth": 2
          },
          "yaxis": {
           "automargin": true,
           "gridcolor": "white",
           "linecolor": "white",
           "ticks": "",
           "title": {
            "standoff": 15
           },
           "zerolinecolor": "white",
           "zerolinewidth": 2
          }
         }
        },
        "title": {
         "text": "Delta Distribution"
        }
       }
      }
     },
     "metadata": {},
     "output_type": "display_data"
    }
   ],
   "source": [
    "dist = df['Delta'].value_counts()\n",
    "trace = go.Pie(values=(np.array(dist)),labels=dist.index,  pull=[0, 0])\n",
    "layout = go.Layout(title='Delta Distribution')\n",
    "data = [trace]\n",
    "fig = go.Figure(trace,layout)\n",
    "fig.update_traces(marker=dict(line=dict(color='#000000', width=0.5)), textinfo='value+percent', insidetextorientation='auto')\n",
    "#sfig.show()"
   ]
  },
  {
   "cell_type": "code",
   "execution_count": 6,
   "metadata": {},
   "outputs": [
    {
     "data": {
      "application/vnd.plotly.v1+json": {
       "config": {
        "plotlyServerURL": "https://plot.ly"
       },
       "data": [
        {
         "insidetextorientation": "auto",
         "labels": [
          0,
          6,
          2,
          1
         ],
         "marker": {
          "line": {
           "color": "#000000",
           "width": 0.5
          }
         },
         "pull": [
          0,
          0.4,
          0.2,
          0.1
         ],
         "textinfo": "value+percent",
         "type": "pie",
         "values": [
          394974,
          7788,
          4820,
          2337
         ]
        }
       ],
       "layout": {
        "template": {
         "data": {
          "bar": [
           {
            "error_x": {
             "color": "#2a3f5f"
            },
            "error_y": {
             "color": "#2a3f5f"
            },
            "marker": {
             "line": {
              "color": "#E5ECF6",
              "width": 0.5
             },
             "pattern": {
              "fillmode": "overlay",
              "size": 10,
              "solidity": 0.2
             }
            },
            "type": "bar"
           }
          ],
          "barpolar": [
           {
            "marker": {
             "line": {
              "color": "#E5ECF6",
              "width": 0.5
             },
             "pattern": {
              "fillmode": "overlay",
              "size": 10,
              "solidity": 0.2
             }
            },
            "type": "barpolar"
           }
          ],
          "carpet": [
           {
            "aaxis": {
             "endlinecolor": "#2a3f5f",
             "gridcolor": "white",
             "linecolor": "white",
             "minorgridcolor": "white",
             "startlinecolor": "#2a3f5f"
            },
            "baxis": {
             "endlinecolor": "#2a3f5f",
             "gridcolor": "white",
             "linecolor": "white",
             "minorgridcolor": "white",
             "startlinecolor": "#2a3f5f"
            },
            "type": "carpet"
           }
          ],
          "choropleth": [
           {
            "colorbar": {
             "outlinewidth": 0,
             "ticks": ""
            },
            "type": "choropleth"
           }
          ],
          "contour": [
           {
            "colorbar": {
             "outlinewidth": 0,
             "ticks": ""
            },
            "colorscale": [
             [
              0,
              "#0d0887"
             ],
             [
              0.1111111111111111,
              "#46039f"
             ],
             [
              0.2222222222222222,
              "#7201a8"
             ],
             [
              0.3333333333333333,
              "#9c179e"
             ],
             [
              0.4444444444444444,
              "#bd3786"
             ],
             [
              0.5555555555555556,
              "#d8576b"
             ],
             [
              0.6666666666666666,
              "#ed7953"
             ],
             [
              0.7777777777777778,
              "#fb9f3a"
             ],
             [
              0.8888888888888888,
              "#fdca26"
             ],
             [
              1,
              "#f0f921"
             ]
            ],
            "type": "contour"
           }
          ],
          "contourcarpet": [
           {
            "colorbar": {
             "outlinewidth": 0,
             "ticks": ""
            },
            "type": "contourcarpet"
           }
          ],
          "heatmap": [
           {
            "colorbar": {
             "outlinewidth": 0,
             "ticks": ""
            },
            "colorscale": [
             [
              0,
              "#0d0887"
             ],
             [
              0.1111111111111111,
              "#46039f"
             ],
             [
              0.2222222222222222,
              "#7201a8"
             ],
             [
              0.3333333333333333,
              "#9c179e"
             ],
             [
              0.4444444444444444,
              "#bd3786"
             ],
             [
              0.5555555555555556,
              "#d8576b"
             ],
             [
              0.6666666666666666,
              "#ed7953"
             ],
             [
              0.7777777777777778,
              "#fb9f3a"
             ],
             [
              0.8888888888888888,
              "#fdca26"
             ],
             [
              1,
              "#f0f921"
             ]
            ],
            "type": "heatmap"
           }
          ],
          "heatmapgl": [
           {
            "colorbar": {
             "outlinewidth": 0,
             "ticks": ""
            },
            "colorscale": [
             [
              0,
              "#0d0887"
             ],
             [
              0.1111111111111111,
              "#46039f"
             ],
             [
              0.2222222222222222,
              "#7201a8"
             ],
             [
              0.3333333333333333,
              "#9c179e"
             ],
             [
              0.4444444444444444,
              "#bd3786"
             ],
             [
              0.5555555555555556,
              "#d8576b"
             ],
             [
              0.6666666666666666,
              "#ed7953"
             ],
             [
              0.7777777777777778,
              "#fb9f3a"
             ],
             [
              0.8888888888888888,
              "#fdca26"
             ],
             [
              1,
              "#f0f921"
             ]
            ],
            "type": "heatmapgl"
           }
          ],
          "histogram": [
           {
            "marker": {
             "pattern": {
              "fillmode": "overlay",
              "size": 10,
              "solidity": 0.2
             }
            },
            "type": "histogram"
           }
          ],
          "histogram2d": [
           {
            "colorbar": {
             "outlinewidth": 0,
             "ticks": ""
            },
            "colorscale": [
             [
              0,
              "#0d0887"
             ],
             [
              0.1111111111111111,
              "#46039f"
             ],
             [
              0.2222222222222222,
              "#7201a8"
             ],
             [
              0.3333333333333333,
              "#9c179e"
             ],
             [
              0.4444444444444444,
              "#bd3786"
             ],
             [
              0.5555555555555556,
              "#d8576b"
             ],
             [
              0.6666666666666666,
              "#ed7953"
             ],
             [
              0.7777777777777778,
              "#fb9f3a"
             ],
             [
              0.8888888888888888,
              "#fdca26"
             ],
             [
              1,
              "#f0f921"
             ]
            ],
            "type": "histogram2d"
           }
          ],
          "histogram2dcontour": [
           {
            "colorbar": {
             "outlinewidth": 0,
             "ticks": ""
            },
            "colorscale": [
             [
              0,
              "#0d0887"
             ],
             [
              0.1111111111111111,
              "#46039f"
             ],
             [
              0.2222222222222222,
              "#7201a8"
             ],
             [
              0.3333333333333333,
              "#9c179e"
             ],
             [
              0.4444444444444444,
              "#bd3786"
             ],
             [
              0.5555555555555556,
              "#d8576b"
             ],
             [
              0.6666666666666666,
              "#ed7953"
             ],
             [
              0.7777777777777778,
              "#fb9f3a"
             ],
             [
              0.8888888888888888,
              "#fdca26"
             ],
             [
              1,
              "#f0f921"
             ]
            ],
            "type": "histogram2dcontour"
           }
          ],
          "mesh3d": [
           {
            "colorbar": {
             "outlinewidth": 0,
             "ticks": ""
            },
            "type": "mesh3d"
           }
          ],
          "parcoords": [
           {
            "line": {
             "colorbar": {
              "outlinewidth": 0,
              "ticks": ""
             }
            },
            "type": "parcoords"
           }
          ],
          "pie": [
           {
            "automargin": true,
            "type": "pie"
           }
          ],
          "scatter": [
           {
            "fillpattern": {
             "fillmode": "overlay",
             "size": 10,
             "solidity": 0.2
            },
            "type": "scatter"
           }
          ],
          "scatter3d": [
           {
            "line": {
             "colorbar": {
              "outlinewidth": 0,
              "ticks": ""
             }
            },
            "marker": {
             "colorbar": {
              "outlinewidth": 0,
              "ticks": ""
             }
            },
            "type": "scatter3d"
           }
          ],
          "scattercarpet": [
           {
            "marker": {
             "colorbar": {
              "outlinewidth": 0,
              "ticks": ""
             }
            },
            "type": "scattercarpet"
           }
          ],
          "scattergeo": [
           {
            "marker": {
             "colorbar": {
              "outlinewidth": 0,
              "ticks": ""
             }
            },
            "type": "scattergeo"
           }
          ],
          "scattergl": [
           {
            "marker": {
             "colorbar": {
              "outlinewidth": 0,
              "ticks": ""
             }
            },
            "type": "scattergl"
           }
          ],
          "scattermapbox": [
           {
            "marker": {
             "colorbar": {
              "outlinewidth": 0,
              "ticks": ""
             }
            },
            "type": "scattermapbox"
           }
          ],
          "scatterpolar": [
           {
            "marker": {
             "colorbar": {
              "outlinewidth": 0,
              "ticks": ""
             }
            },
            "type": "scatterpolar"
           }
          ],
          "scatterpolargl": [
           {
            "marker": {
             "colorbar": {
              "outlinewidth": 0,
              "ticks": ""
             }
            },
            "type": "scatterpolargl"
           }
          ],
          "scatterternary": [
           {
            "marker": {
             "colorbar": {
              "outlinewidth": 0,
              "ticks": ""
             }
            },
            "type": "scatterternary"
           }
          ],
          "surface": [
           {
            "colorbar": {
             "outlinewidth": 0,
             "ticks": ""
            },
            "colorscale": [
             [
              0,
              "#0d0887"
             ],
             [
              0.1111111111111111,
              "#46039f"
             ],
             [
              0.2222222222222222,
              "#7201a8"
             ],
             [
              0.3333333333333333,
              "#9c179e"
             ],
             [
              0.4444444444444444,
              "#bd3786"
             ],
             [
              0.5555555555555556,
              "#d8576b"
             ],
             [
              0.6666666666666666,
              "#ed7953"
             ],
             [
              0.7777777777777778,
              "#fb9f3a"
             ],
             [
              0.8888888888888888,
              "#fdca26"
             ],
             [
              1,
              "#f0f921"
             ]
            ],
            "type": "surface"
           }
          ],
          "table": [
           {
            "cells": {
             "fill": {
              "color": "#EBF0F8"
             },
             "line": {
              "color": "white"
             }
            },
            "header": {
             "fill": {
              "color": "#C8D4E3"
             },
             "line": {
              "color": "white"
             }
            },
            "type": "table"
           }
          ]
         },
         "layout": {
          "annotationdefaults": {
           "arrowcolor": "#2a3f5f",
           "arrowhead": 0,
           "arrowwidth": 1
          },
          "autotypenumbers": "strict",
          "coloraxis": {
           "colorbar": {
            "outlinewidth": 0,
            "ticks": ""
           }
          },
          "colorscale": {
           "diverging": [
            [
             0,
             "#8e0152"
            ],
            [
             0.1,
             "#c51b7d"
            ],
            [
             0.2,
             "#de77ae"
            ],
            [
             0.3,
             "#f1b6da"
            ],
            [
             0.4,
             "#fde0ef"
            ],
            [
             0.5,
             "#f7f7f7"
            ],
            [
             0.6,
             "#e6f5d0"
            ],
            [
             0.7,
             "#b8e186"
            ],
            [
             0.8,
             "#7fbc41"
            ],
            [
             0.9,
             "#4d9221"
            ],
            [
             1,
             "#276419"
            ]
           ],
           "sequential": [
            [
             0,
             "#0d0887"
            ],
            [
             0.1111111111111111,
             "#46039f"
            ],
            [
             0.2222222222222222,
             "#7201a8"
            ],
            [
             0.3333333333333333,
             "#9c179e"
            ],
            [
             0.4444444444444444,
             "#bd3786"
            ],
            [
             0.5555555555555556,
             "#d8576b"
            ],
            [
             0.6666666666666666,
             "#ed7953"
            ],
            [
             0.7777777777777778,
             "#fb9f3a"
            ],
            [
             0.8888888888888888,
             "#fdca26"
            ],
            [
             1,
             "#f0f921"
            ]
           ],
           "sequentialminus": [
            [
             0,
             "#0d0887"
            ],
            [
             0.1111111111111111,
             "#46039f"
            ],
            [
             0.2222222222222222,
             "#7201a8"
            ],
            [
             0.3333333333333333,
             "#9c179e"
            ],
            [
             0.4444444444444444,
             "#bd3786"
            ],
            [
             0.5555555555555556,
             "#d8576b"
            ],
            [
             0.6666666666666666,
             "#ed7953"
            ],
            [
             0.7777777777777778,
             "#fb9f3a"
            ],
            [
             0.8888888888888888,
             "#fdca26"
            ],
            [
             1,
             "#f0f921"
            ]
           ]
          },
          "colorway": [
           "#636efa",
           "#EF553B",
           "#00cc96",
           "#ab63fa",
           "#FFA15A",
           "#19d3f3",
           "#FF6692",
           "#B6E880",
           "#FF97FF",
           "#FECB52"
          ],
          "font": {
           "color": "#2a3f5f"
          },
          "geo": {
           "bgcolor": "white",
           "lakecolor": "white",
           "landcolor": "#E5ECF6",
           "showlakes": true,
           "showland": true,
           "subunitcolor": "white"
          },
          "hoverlabel": {
           "align": "left"
          },
          "hovermode": "closest",
          "mapbox": {
           "style": "light"
          },
          "paper_bgcolor": "white",
          "plot_bgcolor": "#E5ECF6",
          "polar": {
           "angularaxis": {
            "gridcolor": "white",
            "linecolor": "white",
            "ticks": ""
           },
           "bgcolor": "#E5ECF6",
           "radialaxis": {
            "gridcolor": "white",
            "linecolor": "white",
            "ticks": ""
           }
          },
          "scene": {
           "xaxis": {
            "backgroundcolor": "#E5ECF6",
            "gridcolor": "white",
            "gridwidth": 2,
            "linecolor": "white",
            "showbackground": true,
            "ticks": "",
            "zerolinecolor": "white"
           },
           "yaxis": {
            "backgroundcolor": "#E5ECF6",
            "gridcolor": "white",
            "gridwidth": 2,
            "linecolor": "white",
            "showbackground": true,
            "ticks": "",
            "zerolinecolor": "white"
           },
           "zaxis": {
            "backgroundcolor": "#E5ECF6",
            "gridcolor": "white",
            "gridwidth": 2,
            "linecolor": "white",
            "showbackground": true,
            "ticks": "",
            "zerolinecolor": "white"
           }
          },
          "shapedefaults": {
           "line": {
            "color": "#2a3f5f"
           }
          },
          "ternary": {
           "aaxis": {
            "gridcolor": "white",
            "linecolor": "white",
            "ticks": ""
           },
           "baxis": {
            "gridcolor": "white",
            "linecolor": "white",
            "ticks": ""
           },
           "bgcolor": "#E5ECF6",
           "caxis": {
            "gridcolor": "white",
            "linecolor": "white",
            "ticks": ""
           }
          },
          "title": {
           "x": 0.05
          },
          "xaxis": {
           "automargin": true,
           "gridcolor": "white",
           "linecolor": "white",
           "ticks": "",
           "title": {
            "standoff": 15
           },
           "zerolinecolor": "white",
           "zerolinewidth": 2
          },
          "yaxis": {
           "automargin": true,
           "gridcolor": "white",
           "linecolor": "white",
           "ticks": "",
           "title": {
            "standoff": 15
           },
           "zerolinecolor": "white",
           "zerolinewidth": 2
          }
         }
        },
        "title": {
         "text": "Type Distribution"
        }
       }
      }
     },
     "metadata": {},
     "output_type": "display_data"
    }
   ],
   "source": [
    "dist = df['Type'].value_counts()\n",
    "trace = go.Pie(values=(np.array(dist)),labels=dist.index,  pull=[0, 0.4,0.2,0.1])\n",
    "layout = go.Layout(title='Type Distribution')\n",
    "data = [trace]\n",
    "fig = go.Figure(trace,layout)\n",
    "fig.update_traces(marker=dict(line=dict(color='#000000', width=0.5)), textinfo='value+percent', insidetextorientation='auto')\n",
    "#sfig.show()"
   ]
  },
  {
   "attachments": {},
   "cell_type": "markdown",
   "metadata": {},
   "source": [
    "# Sollerkennungswerte bestimmen\n"
   ]
  },
  {
   "cell_type": "code",
   "execution_count": 5,
   "metadata": {},
   "outputs": [],
   "source": [
    "def get_sollwerte(key, df):\n",
    "    df_ordernum = df.loc[(df['Attribute_Name'] == 'OrderNum')] #&(df['Delta'] == False)\n",
    "    dist = df_ordernum['Delta'].value_counts(normalize=True)\n",
    "    print('Kreditor: '+key+'')\n",
    "    \n",
    "    try:\n",
    "        score = 1 - dist.loc[True]\n",
    "    except:\n",
    "        score = dist.loc[False]\n",
    "\n",
    "    print('q(OrderNum): '+str(score)+'') \n",
    "\n",
    "\n",
    "    df_ordernum_correct = df.loc[(df['Attribute_Name'] == 'OrderNum') &(df['Delta'] == False)] \n",
    "    documentid_list = df_ordernum_correct[['DocumentID']].values.tolist()\n",
    "    merged = list(itertools.chain.from_iterable(documentid_list))\n",
    "    denonimator_ordernum = len(documentid_list)\n",
    "    \n",
    "\n",
    "    df_debitor_ordernum = df.loc[(df['Attribute_Name'] == 'OrderNum')|(df['Attribute_Name'] == 'DEBITOR_NUM')|(df['Attribute_Name'] == 'VENDOR_NUM')]\n",
    "    #print(df_debitor_ordernum)\n",
    "    #df_debitor_ordernum.to_csv('data/debitor_preprocessing.csv', index=False, header= True, encoding='iso-8859-15')\n",
    "\n",
    "\n",
    "\n",
    "    counter_do=0\n",
    "    counter_vo=0\n",
    "    for entry_1 in merged:\n",
    "        speicher_entry_new = df_debitor_ordernum[df_debitor_ordernum.DocumentID == ''.join(str(entry_1))]\n",
    "        if ((speicher_entry_new.Attribute_Name == 'OrderNum') & (speicher_entry_new.Delta == False)).any(): \n",
    "            if ((speicher_entry_new.Attribute_Name == 'DEBITOR_NUM')&(speicher_entry_new.Delta == False)).any():\n",
    "                    counter_do += 1\n",
    "            if ((speicher_entry_new.Attribute_Name == 'VENDOR_NUM')&(speicher_entry_new.Delta == False)).any():\n",
    "                    counter_vo += 1\n",
    "    try:\n",
    "        print('q(Mandant|OrderNum): '+str(counter_do/denonimator_ordernum)+'')\n",
    "        print('q(Vendor|OrderNum): '+str(counter_vo/denonimator_ordernum)+'')\n",
    "    except:\n",
    "         print('error')\n",
    "\n",
    "    counter_vno=0\n",
    "\n",
    "    df_order_delta = df.loc[(df['Attribute_Name'] == 'OrderNum')&(df['Delta'] == True)]\n",
    "    df_order_delta_documentid = df_order_delta[['DocumentID']]\n",
    "    order_delta_list = df_order_delta_documentid.values.tolist()\n",
    "    order_delta_list_merged = list(itertools.chain.from_iterable(order_delta_list))\n",
    "    denominator_order_delta_num = len(order_delta_list_merged)\n",
    "\n",
    "\n",
    "    df_invoicenumber_order_delta = df.loc[(df['Attribute_Name'] == 'DEBITOR_NUM')|(df['Attribute_Name'] == 'OrderNum')]\n",
    "    for entry_order_delta_invoicenumber in order_delta_list_merged:\n",
    "        speicher_entry_order_delta = df_invoicenumber_order_delta[df_invoicenumber_order_delta.DocumentID == ''.join(str(entry_order_delta_invoicenumber))]\n",
    "        if ((speicher_entry_order_delta.Attribute_Name == 'OrderNum') & (speicher_entry_order_delta.Delta == True)).any(): \n",
    "            if ((speicher_entry_order_delta.Attribute_Name == 'DEBITOR_NUM') & (speicher_entry_order_delta.Delta == False)).any():\n",
    "                    counter_vno += 1\n",
    "\n",
    "    if(counter_vno == 0):\n",
    "        print('Da keine falsche Ordernum existiert ist Mandant|!Ordernum 0')\n",
    "    else:\n",
    "        print('q(Mandant|!OrderNum): '+str(counter_vno/denominator_order_delta_num)+'')\n",
    "        \n",
    "    df_vendor_nodelta = df.loc[(df['Attribute_Name'] == 'VENDOR_NUM')&(df['Delta'] == False)]\n",
    "    df_vendor_documentid = df_vendor_nodelta[['DocumentID']]\n",
    "    vendor_list = df_vendor_documentid.values.tolist()\n",
    "    vendor_list_merged = list(itertools.chain.from_iterable(vendor_list))\n",
    "    denominator_vendor_num = len(vendor_list)\n",
    "\n",
    "    df_invoicenumber_vendor = df.loc[(df['Attribute_Name'] == 'InvoiceNumber')|(df['Attribute_Name'] == 'VENDOR_NUM')|(df['Attribute_Name'] == 'InvoiceDate')|(df['Attribute_Name'] == 'InvoiceDate')|(df['Attribute_Name'] == 'GrossAmount')]\n",
    "\n",
    "    counter_inv=0\n",
    "    counter_idv=0\n",
    "    counter_gv=0\n",
    "\n",
    "    for entry_vendor_invoicenumber in vendor_list_merged:\n",
    "        speicher_entry_vendor = df_invoicenumber_vendor[df_invoicenumber_vendor.DocumentID == ''.join(str(entry_vendor_invoicenumber))]\n",
    "        if ((speicher_entry_vendor.Attribute_Name == 'VENDOR_NUM') & (speicher_entry_vendor.Delta == False)).any(): \n",
    "            if ((speicher_entry_vendor.Attribute_Name == 'InvoiceNumber') & (speicher_entry_vendor.Delta == False)).any():\n",
    "                    counter_inv += 1\n",
    "            if ((speicher_entry_vendor.Attribute_Name == 'InvoiceDate') & (speicher_entry_vendor.Delta == False)).any():\n",
    "                    counter_idv += 1\n",
    "            if ((speicher_entry_vendor.Attribute_Name == 'GrossAmount') & (speicher_entry_vendor.Delta == False)).any():\n",
    "                    counter_gv += 1\n",
    "\n",
    "    try:\n",
    "        print('q(InvoiceNumber|Vendor): '+str(counter_inv/denominator_vendor_num)+'')\n",
    "        print('q(InvoiceDate|Vendor): '+str(counter_idv/denominator_vendor_num)+'')\n",
    "        print('q(Gross|Vendor): '+str(counter_gv/denominator_vendor_num)+'')\n",
    "    except:\n",
    "        print('error')\n",
    "    counter_gnv=0\n",
    "\n",
    "    df_vendor_delta = df.loc[(df['Attribute_Name'] == 'VENDOR_NUM')&(df['Delta'] == True)]\n",
    "    df_vendor_delta_documentid = df_vendor_delta[['DocumentID']]\n",
    "    vendor_delta_list = df_vendor_delta_documentid.values.tolist()\n",
    "    vendor_delta_list_merged = list(itertools.chain.from_iterable(vendor_delta_list))\n",
    "    denominator_vendor_delta_num = len(vendor_delta_list_merged)\n",
    "\n",
    "\n",
    "    df_invoicenumber_vendor_delta = df.loc[(df['Attribute_Name'] == 'GrossAmount')|(df['Attribute_Name'] == 'VENDOR_NUM')]\n",
    "    for entry_vendor_delta_invoicenumber in vendor_delta_list_merged:\n",
    "        speicher_entry_vendor_delta = df_invoicenumber_vendor_delta[df_invoicenumber_vendor_delta.DocumentID == ''.join(str(entry_vendor_delta_invoicenumber))]\n",
    "        if ((speicher_entry_vendor_delta.Attribute_Name == 'VENDOR_NUM') & (speicher_entry_vendor_delta.Delta == True)).any(): \n",
    "            if ((speicher_entry_vendor_delta.Attribute_Name == 'GrossAmount') & (speicher_entry_vendor_delta.Delta == False)).any():\n",
    "                    counter_gnv += 1\n",
    "\n",
    "    try:\n",
    "        print('q(Gross|!Vendor): '+str(counter_gnv/denominator_vendor_delta_num)+'')\n",
    "    except:\n",
    "        print('errror')\n",
    "\n",
    "    counter_vom=0\n",
    "\n",
    "    df_order_mandant_delta = df.loc[(df['Attribute_Name'] == 'OrderNum')&(df['Delta'] == True)]\n",
    "    df_order_delta_new = df_order_mandant_delta.loc[(df_order_mandant_delta['Attribute_Name'] == 'Mandant')&(df['Delta'] == False)]\n",
    "    df_order_delta_mandant_documentid = df_order_delta_new[['DocumentID']]\n",
    "    order_delta_mandant_list = df_order_delta_mandant_documentid.values.tolist()\n",
    "    order_delta_mandant_list_merged = list(itertools.chain.from_iterable(order_delta_mandant_list))\n",
    "    denominator_order_delta_mandant_num = len(order_delta_mandant_list_merged)\n",
    "\n",
    "\n",
    "    df_invoicenumber_order_delta_mandant = df.loc[(df['Attribute_Name'] == 'VENDOR_NUM')|(df['Attribute_Name'] == 'OrderNum')|(df['Attribute_Name'] == 'DEBITOR_NUM')]\n",
    "    for entry_order_delta_mandant in order_delta_mandant_list_merged:\n",
    "        speicher_entry_order_delta_mandant = df_invoicenumber_order_delta_mandant[df_invoicenumber_order_delta_mandant.DocumentID == ''.join(str(entry_order_delta_mandant))]\n",
    "        if (((speicher_entry_order_delta_mandant.Attribute_Name == 'OrderNum') & (speicher_entry_order_delta_mandant.Delta == True))&((speicher_entry_order_delta_mandant.Attribute_Name == 'DEBITOR_NUM') & (speicher_entry_order_delta_mandant.Delta == False))).any(): \n",
    "            if ((speicher_entry_order_delta_mandant.Attribute_Name == 'VENDOR_NUM') & (speicher_entry_order_delta_mandant.Delta == False)).any():\n",
    "                    counter_vom += 1\n",
    "\n",
    "    if((counter_vom == 0) | (denominator_order_delta_mandant_num == 0 & counter_vom == 0)):\n",
    "        print('Nulldivision q(Vendor| !OrderNum & Mandant) ungültig')\n",
    "    else:\n",
    "        print('q(Vendor| !OrderNum & Mandant): '+str(counter_vom/denominator_order_delta_mandant_num)+'')\n",
    "\n",
    "\n",
    "    counter_vnom=0\n",
    "\n",
    "    df_order_mandant_delta = df.loc[(df['Attribute_Name'] == 'OrderNum')&(df['Delta'] == True)]\n",
    "    df_order_delta_new = df_order_mandant_delta.loc[(df_order_mandant_delta['Attribute_Name'] == 'Mandant')&(df['Delta'] == True)]\n",
    "    df_order_delta_mandant_documentid = df_order_delta_new[['DocumentID']]\n",
    "    order_delta_mandant_list = df_order_delta_mandant_documentid.values.tolist()\n",
    "    order_delta_mandant_list_merged = list(itertools.chain.from_iterable(order_delta_mandant_list))\n",
    "    denominator_order_ndelta_mandant_num = len(order_delta_mandant_list_merged)\n",
    "\n",
    "\n",
    "    df_invoicenumber_order_delta_mandant = df.loc[(df['Attribute_Name'] == 'VENDOR_NUM')|(df['Attribute_Name'] == 'OrderNum')|(df['Attribute_Name'] == 'DEBITOR_NUM')]\n",
    "    for entry_order_delta_mandant in order_delta_mandant_list_merged:\n",
    "        speicher_entry_order_delta_mandant = df_invoicenumber_order_delta_mandant[df_invoicenumber_order_delta_mandant.DocumentID == ''.join(str(entry_order_delta_mandant))]\n",
    "        if (((speicher_entry_order_delta_mandant.Attribute_Name == 'OrderNum') & (speicher_entry_order_delta_mandant.Delta == True))&((speicher_entry_order_delta_mandant.Attribute_Name == 'DEBITOR_NUM') & (speicher_entry_order_delta_mandant.Delta == True))).any(): \n",
    "            if ((speicher_entry_order_delta_mandant.Attribute_Name == 'VENDOR_NUM') & (speicher_entry_order_delta_mandant.Delta == False)).any():\n",
    "                    counter_vnom += 1\n",
    "\n",
    "    if((counter_vnom == 0) | (denominator_order_ndelta_mandant_num == 0)):\n",
    "        print('Nulldivision q(Vendor| !OrderNum & !Mandant) ungültig')\n",
    "    else:\n",
    "        print('q(Vendor| !OrderNum & !Mandant): '+str(counter_vnom/denominator_order_ndelta_mandant_num)+'')\n",
    "    \n",
    "    print('--------------------------------------------------------------------------------------------')\n"
   ]
  },
  {
   "attachments": {},
   "cell_type": "markdown",
   "metadata": {},
   "source": [
    "# Data analysis\n"
   ]
  },
  {
   "cell_type": "code",
   "execution_count": 165,
   "metadata": {},
   "outputs": [],
   "source": [
    "# Nach Kreditoren sortieren\n",
    "#Nach Zeit sortieren \n",
    "def split_datframe_into_whatever(splitkey, df_new):\n",
    "    df_split = df_new.loc[(df_new['Attribute_Name'] == splitkey)] \n",
    "\n",
    "    def split_dataframe(df_debitornum, column):\n",
    "        split_dfs = {}\n",
    "        for value in df_debitornum[column].unique():\n",
    "            split_dfs[value] = df_debitornum[df_debitornum[column] == value][['DocumentID']]   \n",
    "        return split_dfs\n",
    "\n",
    "    dc_split_attribute_after = split_dataframe(df_split, 'Attribute_After')\n",
    "\n",
    "\n",
    "    def find_corresponding_values(dict_of_dataframes, column_to_match, large_dataframe):\n",
    "        result_dict = {}\n",
    "        for key, df in dict_of_dataframes.items():\n",
    "            temp_df = large_dataframe[large_dataframe[column_to_match].isin(df[column_to_match])]\n",
    "            result_dict[key] = temp_df\n",
    "        return result_dict\n",
    "\n",
    "    dc_sorted_df = find_corresponding_values(dc_split_attribute_after, \"DocumentID\", df_new)\n",
    "    return dc_sorted_df\n",
    "    #dc_sorted_df_by_creditor[\"\"].to_csv('data/codia.csv', index=False, header= True, encoding='utf-8')\n"
   ]
  },
  {
   "cell_type": "code",
   "execution_count": 6,
   "metadata": {},
   "outputs": [],
   "source": [
    "def filter_df_by_time(df, start_date, end_date):\n",
    "    # Filtern des DataFrames nach dem Zeitfenster\n",
    "    filtered_df = df[(df['LogTime'] >= start_date) & (df['LogTime'] <= end_date)]  \n",
    "    df_new = filtered_df.drop(['LogTime'], axis =1)\n",
    "    # Rückgabe des gefilterten DataFrames\n",
    "    return df_new"
   ]
  },
  {
   "cell_type": "code",
   "execution_count": 7,
   "metadata": {},
   "outputs": [],
   "source": [
    "def get_data_values(df, value1, bool1, value2): \n",
    "    df_ordernum_correct = df.loc[(df['Attribute_Name'] == value1) &(df['Delta'] == bool1)] \n",
    "    documentid_list = df_ordernum_correct[['DocumentID']].values.tolist()\n",
    "    merged = list(itertools.chain.from_iterable(documentid_list))\n",
    "    denonimator_ordernum = len(documentid_list)\n",
    "    \n",
    "    df_debitor_ordernum = df.loc[(df['Attribute_Name'] == value1)|(df['Attribute_Name'] == value2)]\n",
    "\n",
    "    counter_do=0\n",
    "    for entry_1 in merged:\n",
    "        speicher_entry_new = df_debitor_ordernum[df_debitor_ordernum.DocumentID == ''.join(str(entry_1))]\n",
    "        if ((speicher_entry_new.Attribute_Name == value1) & (speicher_entry_new.Delta == bool1)).any(): \n",
    "            if ((speicher_entry_new.Attribute_Name == value2)&(speicher_entry_new.Delta == False)).any():\n",
    "                    counter_do += 1\n",
    "\n",
    "    try:\n",
    "        return counter_do/denonimator_ordernum\n",
    "        #return ([counter_do/denonimator_ordernum,counter_do,denonimator_ordernum])\n",
    "    except:\n",
    "         return pd.NA"
   ]
  },
  {
   "cell_type": "code",
   "execution_count": 189,
   "metadata": {},
   "outputs": [],
   "source": [
    "def get_data_values2(df, items): \n",
    "    df_ordernum_correct = df.loc[(df['Attribute_Name'] == items[0]) &(df['Delta'] == items[1])] \n",
    "    documentid_list = df_ordernum_correct[['DocumentID']].values.tolist()\n",
    "    merged = list(itertools.chain.from_iterable(documentid_list))\n",
    "    denonimator_ordernum = len(documentid_list)\n",
    "    \n",
    "    df_debitor_ordernum = df.loc[(df['Attribute_Name'] == items[0])|(df['Attribute_Name'] == items[2])]\n",
    "\n",
    "    counter_do=0\n",
    "    for entry_1 in merged:\n",
    "        speicher_entry_new = df_debitor_ordernum[df_debitor_ordernum.DocumentID == ''.join(str(entry_1))]\n",
    "        if ((speicher_entry_new.Attribute_Name == items[0]) & (speicher_entry_new.Delta == items[1])).any(): \n",
    "            if ((speicher_entry_new.Attribute_Name == items[2])&(speicher_entry_new.Delta == False)).any():\n",
    "                    counter_do += 1\n",
    "\n",
    "    try:\n",
    "        return counter_do/denonimator_ordernum\n",
    "        #return counter_do/denonimator_ordernum,denonimator_ordernum\n",
    "    except:\n",
    "         return pd.NA"
   ]
  },
  {
   "cell_type": "code",
   "execution_count": 12,
   "metadata": {},
   "outputs": [],
   "source": [
    "def get_data_values_two_booleans(df, value1, bool1, value2, bool2, value3):    \n",
    "    counter_vom=0\n",
    "\n",
    "    df_order_mandant_delta = df.loc[(df['Attribute_Name'] == value1)&(df['Delta'] == bool1)]\n",
    "    df_order_delta_new = df_order_mandant_delta.loc[(df_order_mandant_delta['Attribute_Name'] == value2)&(df['Delta'] == bool2)]\n",
    "    df_order_delta_mandant_documentid = df_order_delta_new[['DocumentID']]\n",
    "    order_delta_mandant_list = df_order_delta_mandant_documentid.values.tolist()\n",
    "    order_delta_mandant_list_merged = list(itertools.chain.from_iterable(order_delta_mandant_list))\n",
    "    denominator_order_delta_mandant_num = len(order_delta_mandant_list_merged)\n",
    "\n",
    "\n",
    "    df_invoicenumber_order_delta_mandant = df.loc[(df['Attribute_Name'] == value1)|(df['Attribute_Name'] == value2)|(df['Attribute_Name'] == value3)]\n",
    "    for entry_order_delta_mandant in order_delta_mandant_list_merged:\n",
    "        speicher_entry_order_delta_mandant = df_invoicenumber_order_delta_mandant[df_invoicenumber_order_delta_mandant.DocumentID == ''.join(str(entry_order_delta_mandant))]\n",
    "        if (((speicher_entry_order_delta_mandant.Attribute_Name == value1) & (speicher_entry_order_delta_mandant.Delta == bool1))&((speicher_entry_order_delta_mandant.Attribute_Name == value2) & (speicher_entry_order_delta_mandant.Delta == bool2))).any(): \n",
    "            if ((speicher_entry_order_delta_mandant.Attribute_Name == value3) & (speicher_entry_order_delta_mandant.Delta == False)).any():\n",
    "                    counter_vom += 1\n",
    "\n",
    "    #if((counter_vom == 0) | (denominator_order_delta_mandant_num == 0 & counter_vom == 0)):\n",
    "    try:\n",
    "        return counter_vom/denominator_order_delta_mandant_num\n",
    "        #return ([counter_vom/denominator_order_delta_mandant_num,counter_vom,denominator_order_delta_mandant_num])\n",
    "    except:\n",
    "         return pd.NA"
   ]
  },
  {
   "cell_type": "code",
   "execution_count": 8,
   "metadata": {},
   "outputs": [],
   "source": [
    "def get_data_values_two_booleans2(df, items):    \n",
    "    counter_vom=0\n",
    "\n",
    "    df_order_mandant_delta = df.loc[(df['Attribute_Name'] == items[0])&(df['Delta'] == items[1])]\n",
    "    df_order_delta_new = df_order_mandant_delta.loc[(df_order_mandant_delta['Attribute_Name'] == items[2])&(df['Delta'] == items[3])]\n",
    "    df_order_delta_mandant_documentid = df_order_delta_new[['DocumentID']]\n",
    "    order_delta_mandant_list = df_order_delta_mandant_documentid.values.tolist()\n",
    "    order_delta_mandant_list_merged = list(itertools.chain.from_iterable(order_delta_mandant_list))\n",
    "    denominator_order_delta_mandant_num = len(order_delta_mandant_list_merged)\n",
    "\n",
    "\n",
    "    df_invoicenumber_order_delta_mandant = df.loc[(df['Attribute_Name'] == items[0])|(df['Attribute_Name'] == items[2])|(df['Attribute_Name'] == items[4])]\n",
    "    for entry_order_delta_mandant in order_delta_mandant_list_merged:\n",
    "        speicher_entry_order_delta_mandant = df_invoicenumber_order_delta_mandant[df_invoicenumber_order_delta_mandant.DocumentID == ''.join(str(entry_order_delta_mandant))]\n",
    "        if (((speicher_entry_order_delta_mandant.Attribute_Name == items[0]) & (speicher_entry_order_delta_mandant.Delta == items[1]))&((speicher_entry_order_delta_mandant.Attribute_Name == items[2]) & (speicher_entry_order_delta_mandant.Delta == items[3]))).any(): \n",
    "            if ((speicher_entry_order_delta_mandant.Attribute_Name == items[4]) & (speicher_entry_order_delta_mandant.Delta == False)).any():\n",
    "                    counter_vom += 1\n",
    "\n",
    "    #if((counter_vom == 0) | (denominator_order_delta_mandant_num == 0 & counter_vom == 0)):\n",
    "    try:\n",
    "        return counter_vom/denominator_order_delta_mandant_num\n",
    "        #return counter_vom/denominator_order_delta_mandant_num,denominator_order_delta_mandant_num\n",
    "    except:\n",
    "         return pd.NA"
   ]
  },
  {
   "cell_type": "code",
   "execution_count": 9,
   "metadata": {},
   "outputs": [],
   "source": [
    "def get_single_value(df, value):\n",
    "    df_ordernum = df.loc[(df['Attribute_Name'] == value)] \n",
    "    dist = df_ordernum['Delta'].value_counts(normalize=True)\n",
    "    try:\n",
    "        score_false = dist.loc[False]\n",
    "        if(score_false >= 0):\n",
    "            score = score_false\n",
    "        elif(score_false == 0):\n",
    "            score = dist.loc[True]\n",
    "    except:\n",
    "        return pd.NA\n",
    "\n",
    "        \n",
    "    return score#, len(df_ordernum)\n",
    "\n"
   ]
  },
  {
   "cell_type": "code",
   "execution_count": 190,
   "metadata": {},
   "outputs": [],
   "source": [
    "list1 = [['OrderNum',False,'DEBITOR_NUM'],\n",
    "         ['OrderNum',False,'VENDOR_NUM'],\n",
    "         ['OrderNum',True,'DEBITOR_NUM'],\n",
    "         ['VENDOR_NUM',False,'InvoiceNumber'],\n",
    "         ['VENDOR_NUM',True,'InvoiceNumber'],\n",
    "         ['VENDOR_NUM',False,'InvoiceDate'],\n",
    "         ['VENDOR_NUM',True,'InvoiceDate'],\n",
    "         ['VENDOR_NUM',False,'GrossAmount'],\n",
    "         ['VENDOR_NUM',True,'GrossAmount'],\n",
    "         ['VENDOR_NUM',False,'NetAmount1'],\n",
    "         ['VENDOR_NUM',True,'NetAmount1'],\n",
    "         ['VENDOR_NUM',False,'VatAmount1'],\n",
    "         ['VENDOR_NUM',True,'VatAmount1'],\n",
    "         ]\n",
    "\n",
    "list2 = [['OrderNum',True,'DEBITOR_NUM',False,'VENDOR_NUM'],\n",
    "            ['OrderNum',True,'DEBITOR_NUM',True,'VENDOR_NUM'],\n",
    "            ]\n",
    "\n",
    "def get_data_values_complete_results(tenant, splitkey,df_new):\n",
    "\n",
    "    dc_sorted_df = split_datframe_into_whatever(splitkey, df_new)\n",
    "    \n",
    "    df_results = pd.DataFrame(columns=['q(OrderNum)','q(DEBITOR_NUM|OrderNum)',\n",
    "            'q(VENDOR_NUM|OrderNum)',\n",
    "            'q(DEBITOR_NUM|!OrderNum)',\n",
    "            'q(InvoiceNumber|VENDOR_NUM)',\n",
    "            'q(InvoiceNumber|!VENDOR_NUM)',\n",
    "            'q(InvoiceDate|VENDOR_NUM)',\n",
    "            'q(InvoiceDate|!VENDOR_NUM)',\n",
    "            'q(GrossAmount|VENDOR_NUM)',\n",
    "            'q(GrossAmount|!VENDOR_NUM)',\n",
    "            'q(NetAmount1|VENDOR_NUM)',\n",
    "            'q(NetAmount1|!VENDOR_NUM)',\n",
    "            'q(VatAmount1|VENDOR_NUM)',\n",
    "            'q(VatAmount1|!VENDOR_NUM)',\n",
    "            'q(VENDOR_NUM | !OrderNum & DEBITOR_NUM)',\n",
    "            'q(VENDOR_NUM| !OrderNum & ! DEBITOR_NUM)',\n",
    "            'q(VENDOR_NUM)',])\n",
    "\n",
    "    for key, df in dc_sorted_df.items():\n",
    "    \n",
    "        result_list = []\n",
    "        #get_sollwerte(key, df)\n",
    "        ordernum = get_single_value(df, 'OrderNum')\n",
    "        result_list.append(ordernum)\n",
    "        #print(''+key+': '+'OrderNum = '+str(ordernum)+'')\n",
    "        \n",
    "\n",
    "        for items1 in list1:\n",
    "            x = get_data_values2(df, items1)\n",
    "            result_list.append(x)\n",
    "\n",
    "        for items2 in list2:\n",
    "            y = get_data_values_two_booleans2(df, items2)\n",
    "            result_list.append(y)\n",
    "            \n",
    "\n",
    "        vendornum = get_single_value(df, 'VENDOR_NUM')\n",
    "        #print(''+key+': '+'VENDOR_NUM = '+str(vendornum)+'')\n",
    "        result_list.append(vendornum)\n",
    "\n",
    "        df_results.loc[key] = result_list\n",
    "\n",
    "    return df_results, dc_sorted_df\n"
   ]
  },
  {
   "cell_type": "code",
   "execution_count": 26,
   "metadata": {},
   "outputs": [
    {
     "name": "stdout",
     "output_type": "stream",
     "text": [
      "q(OrderNum)                                 0\n",
      "q(DEBITOR_NUM|OrderNum)                     0\n",
      "q(VENDOR_NUM|OrderNum)                      0\n",
      "q(DEBITOR_NUM|!OrderNum)                    0\n",
      "q(InvoiceNumber|VENDOR_NUM)                 0\n",
      "q(InvoiceNumber|!VENDOR_NUM)                0\n",
      "q(InvoiceDate|VENDOR_NUM)                   0\n",
      "q(GrossAmount|VENDOR_NUM)                   0\n",
      "q(GrossAmount|!VENDOR_NUM)                  0\n",
      "q(NetAmount1|VENDOR_NUM)                    0\n",
      "q(NetAmount1|!VENDOR_NUM)                   0\n",
      "q(VatAmount1|VENDOR_NUM)                    0\n",
      "q(VatAmount1|!VENDOR_NUM)                   0\n",
      "q(VENDOR_NUM | !OrderNum & DEBITOR_NUM)     0\n",
      "q(VENDOR_NUM| !OrderNum & ! DEBITOR_NUM)    0\n",
      "q(VENDOR_NUM)                               0\n",
      "dtype: int64\n"
     ]
    },
    {
     "name": "stderr",
     "output_type": "stream",
     "text": [
      "C:\\Users\\lete\\AppData\\Local\\Temp\\ipykernel_7672\\2528527961.py:2: FutureWarning:\n",
      "\n",
      "The default dtype for empty Series will be 'object' instead of 'float64' in a future version. Specify a dtype explicitly to silence this warning.\n",
      "\n"
     ]
    }
   ],
   "source": [
    "def sollwerte_anhand_wahrscheinlichkeit(df):\n",
    "    sollwerte = pd.Series()\n",
    "    for column in df.columns:\n",
    "        #df.values.tolist()\n",
    "        probability = []\n",
    "        count = []\n",
    "        for entry in df[column]:\n",
    "            #df.values.tolist()\n",
    "            if (pd.isnull(entry)):\n",
    "                continue      \n",
    "            else:\n",
    "                probability.append(entry[0])\n",
    "                count.append(entry[1])\n",
    "\n",
    "        wholecount = sum(count)\n",
    "        gesamtwahrscheinlichkeit = sum([p * h / wholecount for p, h in zip(probability, count)])  #p = probability * count/wholcount\n",
    "\n",
    "        sollwerte[column] = gesamtwahrscheinlichkeit\n",
    "    return sollwerte\n",
    "\n",
    "sollwerte = sollwerte_anhand_wahrscheinlichkeit(df_results)\n",
    "#sollwerte.to_csv('data/sollwerte.csv', index=True, header= True, encoding='utf-8')\n",
    "print(sollwerte)"
   ]
  },
  {
   "cell_type": "code",
   "execution_count": 194,
   "metadata": {},
   "outputs": [
    {
     "data": {
      "text/html": [
       "<div>\n",
       "<style scoped>\n",
       "    .dataframe tbody tr th:only-of-type {\n",
       "        vertical-align: middle;\n",
       "    }\n",
       "\n",
       "    .dataframe tbody tr th {\n",
       "        vertical-align: top;\n",
       "    }\n",
       "\n",
       "    .dataframe thead th {\n",
       "        text-align: right;\n",
       "    }\n",
       "</style>\n",
       "<table border=\"1\" class=\"dataframe\">\n",
       "  <thead>\n",
       "    <tr style=\"text-align: right;\">\n",
       "      <th>Unnamed: 0</th>\n",
       "      <th>q(OrderNum)</th>\n",
       "      <th>q(DEBITOR_NUM|OrderNum)</th>\n",
       "      <th>q(VENDOR_NUM|OrderNum)</th>\n",
       "      <th>q(DEBITOR_NUM|!OrderNum)</th>\n",
       "      <th>q(InvoiceNumber|VENDOR_NUM)</th>\n",
       "      <th>q(InvoiceNumber|!VENDOR_NUM)</th>\n",
       "      <th>q(InvoiceDate|VENDOR_NUM)</th>\n",
       "      <th>q(InvoiceDate|!VENDOR_NUM)</th>\n",
       "      <th>q(GrossAmount|VENDOR_NUM)</th>\n",
       "      <th>q(GrossAmount|!VENDOR_NUM)</th>\n",
       "      <th>q(NetAmount1|VENDOR_NUM)</th>\n",
       "      <th>q(NetAmount1|!VENDOR_NUM)</th>\n",
       "      <th>q(VatAmount1|VENDOR_NUM)</th>\n",
       "      <th>q(VatAmount1|!VENDOR_NUM)</th>\n",
       "      <th>q(VENDOR_NUM | !OrderNum &amp; DEBITOR_NUM)</th>\n",
       "      <th>q(VENDOR_NUM| !OrderNum &amp; ! DEBITOR_NUM)</th>\n",
       "      <th>q(VENDOR_NUM)</th>\n",
       "    </tr>\n",
       "  </thead>\n",
       "  <tbody>\n",
       "    <tr>\n",
       "      <th>0</th>\n",
       "      <td>1.0</td>\n",
       "      <td>1.0</td>\n",
       "      <td>0.797</td>\n",
       "      <td>0.734</td>\n",
       "      <td>0.963</td>\n",
       "      <td>0.906</td>\n",
       "      <td>0.974</td>\n",
       "      <td>0.85</td>\n",
       "      <td>0.981</td>\n",
       "      <td>0.8</td>\n",
       "      <td>0.878</td>\n",
       "      <td>0.8</td>\n",
       "      <td>0.885</td>\n",
       "      <td>0.8</td>\n",
       "      <td>0.0</td>\n",
       "      <td>0.0</td>\n",
       "      <td>0.961</td>\n",
       "    </tr>\n",
       "  </tbody>\n",
       "</table>\n",
       "</div>"
      ],
      "text/plain": [
       "Unnamed: 0  q(OrderNum)  q(DEBITOR_NUM|OrderNum)  q(VENDOR_NUM|OrderNum)  \\\n",
       "0                   1.0                      1.0                   0.797   \n",
       "\n",
       "Unnamed: 0  q(DEBITOR_NUM|!OrderNum)  q(InvoiceNumber|VENDOR_NUM)  \\\n",
       "0                              0.734                        0.963   \n",
       "\n",
       "Unnamed: 0  q(InvoiceNumber|!VENDOR_NUM)  q(InvoiceDate|VENDOR_NUM)  \\\n",
       "0                                  0.906                      0.974   \n",
       "\n",
       "Unnamed: 0  q(InvoiceDate|!VENDOR_NUM)  q(GrossAmount|VENDOR_NUM)  \\\n",
       "0                                 0.85                      0.981   \n",
       "\n",
       "Unnamed: 0  q(GrossAmount|!VENDOR_NUM)  q(NetAmount1|VENDOR_NUM)  \\\n",
       "0                                  0.8                     0.878   \n",
       "\n",
       "Unnamed: 0  q(NetAmount1|!VENDOR_NUM)  q(VatAmount1|VENDOR_NUM)  \\\n",
       "0                                 0.8                     0.885   \n",
       "\n",
       "Unnamed: 0  q(VatAmount1|!VENDOR_NUM)  \\\n",
       "0                                 0.8   \n",
       "\n",
       "Unnamed: 0  q(VENDOR_NUM | !OrderNum & DEBITOR_NUM)  \\\n",
       "0                                               0.0   \n",
       "\n",
       "Unnamed: 0  q(VENDOR_NUM| !OrderNum & ! DEBITOR_NUM)  q(VENDOR_NUM)  \n",
       "0                                                0.0          0.961  "
      ]
     },
     "metadata": {},
     "output_type": "display_data"
    }
   ],
   "source": [
    "sollwerte = pd.read_csv('data/sollwerte.csv', encoding='utf-8')\n",
    "sollwerte_transposed = sollwerte.set_index('Unnamed: 0').T\n",
    "display(sollwerte_transposed)\n"
   ]
  },
  {
   "cell_type": "code",
   "execution_count": 199,
   "metadata": {},
   "outputs": [],
   "source": [
    "#df_results = get_data_values_complete_results(tenant, 'DEBITOR_NUM')\n",
    "def get_outliers(df_results):\n",
    "    outliers_dataframe = pd.Series()\n",
    "\n",
    "    for col in sollwerte_transposed:\n",
    "        #print(sollwerte_transposed[col])\n",
    "        std = df_results[col].std()\n",
    "        sollwert = sollwerte_transposed.iloc[0][col]\n",
    "        absoluter_abstand = np.abs(sollwert - df_results[col])\n",
    "        outliers = df_results[(df_results[col] - sollwert).abs() > 0.3] #2 * std ((1-sollwert)/2)\n",
    "        #print(outliers.index.tolist())\n",
    "        if not outliers.empty:\n",
    "            outliers_dataframe[col] = outliers.index.tolist()\n",
    "            #print(f\"Ausreißer in Spalte {col}:\")\n",
    "            #print(outliers.index)\n",
    "            #return(col, outliers.index)\n",
    "\n",
    "    return(outliers_dataframe)\n",
    "#median = df_results.median()\n"
   ]
  },
  {
   "cell_type": "code",
   "execution_count": 181,
   "metadata": {},
   "outputs": [],
   "source": [
    "#df_results_vendor, dc_sorted_df_vendor = get_data_values_complete_results(tenant, 'VENDOR_NUM', df_new)\n",
    "#outliers_results_vendor = get_outliers(df_results_vendor)\n",
    "#outliers_results_vendor_frame = outliers_results_vendor.to_frame()\n"
   ]
  },
  {
   "cell_type": "code",
   "execution_count": 184,
   "metadata": {},
   "outputs": [],
   "source": [
    "def count_numbers_new(df, column_name, threshold=None):\n",
    "    all_numbers = []\n",
    "    for index, row in df.iterrows():\n",
    "        numbers_in_list = row[column_name]\n",
    "        all_numbers += numbers_in_list\n",
    "    \n",
    "    count_numbers = Counter(all_numbers)\n",
    "    sorted_counts = sorted(count_numbers.items(), key=lambda x: x[1], reverse=True)\n",
    "    \n",
    "    if threshold:\n",
    "        high_frequency_numbers = [x[0] for x in sorted_counts if x[1] >= threshold]\n",
    "        return sorted_counts, high_frequency_numbers\n",
    "    else:\n",
    "        return sorted_counts\n",
    "    \n",
    "\n",
    "#print(sorted_counts)\n",
    "#display(high_frequency_numbers_debitor)\n",
    "\n",
    "#sorted_counts, high_frequency_numbers_vendor = count_numbers_new(outliers_results_vendor_frame, 0, threshold=3)\n",
    "#print(sorted_counts)\n",
    "#display(high_frequency_numbers_vendor)\n",
    "\n"
   ]
  },
  {
   "cell_type": "code",
   "execution_count": 200,
   "metadata": {},
   "outputs": [
    {
     "name": "stderr",
     "output_type": "stream",
     "text": [
      "C:\\Users\\lete\\AppData\\Local\\Temp\\ipykernel_7672\\3558986504.py:3: FutureWarning:\n",
      "\n",
      "The default dtype for empty Series will be 'object' instead of 'float64' in a future version. Specify a dtype explicitly to silence this warning.\n",
      "\n",
      "C:\\Users\\lete\\AppData\\Local\\Temp\\ipykernel_7672\\3558986504.py:3: FutureWarning:\n",
      "\n",
      "The default dtype for empty Series will be 'object' instead of 'float64' in a future version. Specify a dtype explicitly to silence this warning.\n",
      "\n"
     ]
    },
    {
     "data": {
      "text/plain": [
       "'1300'"
      ]
     },
     "metadata": {},
     "output_type": "display_data"
    },
    {
     "name": "stdout",
     "output_type": "stream",
     "text": [
      "[('16042', 9), ('18168', 7), ('16646', 7), ('10117', 6), ('18155', 5), ('18372', 4), ('16169', 4), ('17637', 4), ('15469', 4), ('15267', 4), ('16545', 4), ('18266', 3), ('17368', 3), ('10908', 3), ('15832', 3), ('17485', 3), ('18104', 3), ('10489', 3), ('10783', 3), ('10557', 3), ('10554', 3), ('10797', 3), ('10705', 3), ('17387', 3), ('18334', 3), ('14364', 3), ('11234', 2), ('18048', 2), ('17537', 2), ('17481', 2), ('18341', 2), ('16708', 2), ('15831', 2), ('10902', 2), ('17490', 2), ('17529', 2), ('18195', 2), ('18086', 2), ('16878', 2), ('18251', 2), ('15392', 2), ('18111', 2), ('18030', 1), ('16823', 1), ('16076', 1), ('101797', 1), ('18182', 1), ('16886', 1), ('18270', 1), ('18002', 1)]\n"
     ]
    },
    {
     "data": {
      "text/plain": [
       "['16042',\n",
       " '18168',\n",
       " '16646',\n",
       " '10117',\n",
       " '18155',\n",
       " '18372',\n",
       " '16169',\n",
       " '17637',\n",
       " '15469',\n",
       " '15267',\n",
       " '16545',\n",
       " '18266',\n",
       " '17368',\n",
       " '10908',\n",
       " '15832',\n",
       " '17485',\n",
       " '18104',\n",
       " '10489',\n",
       " '10783',\n",
       " '10557',\n",
       " '10554',\n",
       " '10797',\n",
       " '10705',\n",
       " '17387',\n",
       " '18334',\n",
       " '14364']"
      ]
     },
     "metadata": {},
     "output_type": "display_data"
    },
    {
     "name": "stderr",
     "output_type": "stream",
     "text": [
      "C:\\Users\\lete\\AppData\\Local\\Temp\\ipykernel_7672\\3558986504.py:3: FutureWarning:\n",
      "\n",
      "The default dtype for empty Series will be 'object' instead of 'float64' in a future version. Specify a dtype explicitly to silence this warning.\n",
      "\n"
     ]
    },
    {
     "data": {
      "text/plain": [
       "'1200'"
      ]
     },
     "metadata": {},
     "output_type": "display_data"
    },
    {
     "name": "stdout",
     "output_type": "stream",
     "text": [
      "[('10100', 10), ('10117', 9), ('10750', 7), ('17111', 6), ('17368', 6), ('17124', 6), ('10088', 6), ('17110', 6), ('10196', 5), ('16750', 5), ('10008', 5), ('10077', 4), ('10086', 4), ('17930', 4), ('10058', 4), ('10060', 4), ('15593', 4), ('16868', 4), ('18328', 4), ('15402', 4), ('16021', 4), ('16042', 4), ('16948', 4), ('16169', 4), ('18108', 4), ('17343', 4), ('15372', 4), ('10520', 3), ('10083', 3), ('10119', 3), ('101159', 3), ('10065', 3), ('15428', 3), ('10016', 3), ('10797', 3), ('12928', 3), ('17445', 3), ('10692', 3), ('10136', 3), ('18304', 3), ('10783', 3), ('16813', 3), ('10377', 3), ('10395', 3), ('10022', 3), ('17925', 3), ('10121', 3), ('16516', 3), ('10458', 3), ('17490', 3), ('14515', 3), ('10299', 3), ('10705', 3), ('14612', 3), ('18086', 3), ('10489', 3), ('16145', 3), ('15300', 3), ('14373', 2), ('16574', 2), ('15600', 2), ('15469', 2), ('16956', 2), ('10908', 2), ('12084', 2), ('17539', 2), ('13070', 2), ('16708', 2), ('16402', 2), ('15910', 2), ('18367', 2), ('17485', 2), ('17949', 2), ('10053', 2), ('17528', 2), ('16798', 2), ('10255', 2), ('15054', 2), ('14218', 2), ('16358', 2), ('18371', 2), ('15067', 2), ('16792', 2), ('18287', 2), ('17249', 2), ('10001', 2), ('16824', 1), ('16788', 1), ('10163', 1), ('10142', 1), ('10367', 1), ('10531', 1), ('10041', 1), ('15549', 1), ('14344', 1), ('17399', 1), ('16514', 1), ('14302', 1), ('10125', 1), ('15665', 1), ('16886', 1), ('15994', 1), ('15400', 1), ('17224', 1), ('11495', 1), ('14715', 1), ('10334', 1), ('16148', 1), ('16442', 1), ('10466', 1), ('17312', 1), ('10021', 1), ('10006', 1), ('17393', 1), ('10108', 1), ('16095', 1), ('10493', 1), ('15968', 1), ('15779', 1), ('17926', 1), ('14030', 1)]\n"
     ]
    },
    {
     "data": {
      "text/plain": [
       "['10100',\n",
       " '10117',\n",
       " '10750',\n",
       " '17111',\n",
       " '17368',\n",
       " '17124',\n",
       " '10088',\n",
       " '17110',\n",
       " '10196',\n",
       " '16750',\n",
       " '10008',\n",
       " '10077',\n",
       " '10086',\n",
       " '17930',\n",
       " '10058',\n",
       " '10060',\n",
       " '15593',\n",
       " '16868',\n",
       " '18328',\n",
       " '15402',\n",
       " '16021',\n",
       " '16042',\n",
       " '16948',\n",
       " '16169',\n",
       " '18108',\n",
       " '17343',\n",
       " '15372',\n",
       " '10520',\n",
       " '10083',\n",
       " '10119',\n",
       " '101159',\n",
       " '10065',\n",
       " '15428',\n",
       " '10016',\n",
       " '10797',\n",
       " '12928',\n",
       " '17445',\n",
       " '10692',\n",
       " '10136',\n",
       " '18304',\n",
       " '10783',\n",
       " '16813',\n",
       " '10377',\n",
       " '10395',\n",
       " '10022',\n",
       " '17925',\n",
       " '10121',\n",
       " '16516',\n",
       " '10458',\n",
       " '17490',\n",
       " '14515',\n",
       " '10299',\n",
       " '10705',\n",
       " '14612',\n",
       " '18086',\n",
       " '10489',\n",
       " '16145',\n",
       " '15300']"
      ]
     },
     "metadata": {},
     "output_type": "display_data"
    },
    {
     "name": "stderr",
     "output_type": "stream",
     "text": [
      "C:\\Users\\lete\\AppData\\Local\\Temp\\ipykernel_7672\\3558986504.py:3: FutureWarning:\n",
      "\n",
      "The default dtype for empty Series will be 'object' instead of 'float64' in a future version. Specify a dtype explicitly to silence this warning.\n",
      "\n"
     ]
    },
    {
     "data": {
      "text/plain": [
       "'2900'"
      ]
     },
     "metadata": {},
     "output_type": "display_data"
    },
    {
     "name": "stdout",
     "output_type": "stream",
     "text": [
      "[('16042', 9), ('18346', 9), ('18290', 7), ('17942', 7), ('18135', 7), ('17415', 7), ('10117', 7), ('18129', 7), ('17074', 6), ('17367', 6), ('17492', 6), ('16021', 6), ('18049', 6), ('18083', 6), ('18177', 6), ('18310', 6), ('17342', 6), ('16741', 5), ('16781', 5), ('18004', 5), ('18274', 5), ('17094', 5), ('17948', 5), ('17420', 5), ('18226', 5), ('18329', 5), ('18153', 5), ('18167', 5), ('17477', 5), ('15664', 5), ('18319', 5), ('17356', 5), ('16635', 5), ('17209', 4), ('16615', 4), ('17355', 4), ('102330', 4), ('17300', 4), ('18073', 4), ('18389', 4), ('18349', 4), ('17368', 4), ('17424', 4), ('16342', 4), ('18265', 4), ('17662', 4), ('18263', 4), ('17505', 4), ('16664', 4), ('18176', 4), ('16026', 3), ('18388', 3), ('17351', 3), ('17203', 3), ('16426', 3), ('16310', 3), ('18037', 3), ('17392', 3), ('16118', 3), ('18353', 3), ('18321', 3), ('18323', 3), ('18224', 3), ('15631', 3), ('16880', 3), ('18000', 3), ('17909', 3), ('16826', 3), ('17039', 3), ('18013', 3), ('17514', 3), ('18306', 3), ('17508', 3), ('16013', 3), ('17266', 3), ('17366', 3), ('17380', 3), ('16082', 3), ('18014', 3), ('15695', 3), ('16040', 3), ('17907', 3), ('17400', 3), ('17401', 3), ('17476', 3), ('17515', 3), ('17442', 3), ('17911', 3), ('17535', 3), ('16619', 3), ('16188', 3), ('15743', 3), ('17215', 3), ('16055', 3), ('17345', 3), ('18077', 3), ('17531', 3), ('18360', 3), ('17488', 3), ('17980', 3), ('17421', 3), ('16916', 3), ('18320', 3), ('18322', 3), ('18116', 3), ('18326', 3), ('17461', 3), ('18046', 3), ('18223', 3), ('17947', 2), ('17941', 2), ('17173', 2), ('17372', 2), ('16966', 2), ('18086', 2), ('16451', 2), ('16897', 2), ('16953', 2), ('17199', 2), ('17223', 2), ('16828', 2), ('16883', 2), ('17538', 2), ('17411', 2), ('16039', 2), ('17190', 2), ('17532', 2), ('17920', 2), ('17113', 2), ('17398', 2), ('18051', 2), ('16407', 2), ('17304', 2), ('17487', 2), ('16676', 2), ('11337', 2), ('15322', 2), ('15138', 2), ('17991', 2), ('16752', 2), ('17347', 2), ('17937', 2), ('17938', 2), ('102106', 2), ('17233', 2), ('16844', 2), ('18029', 2), ('13512', 2), ('16430', 2), ('16194', 2), ('13868', 2), ('15875', 2), ('17432', 2), ('16672', 2), ('16806', 2), ('18080', 2), ('18361', 2), ('16017', 2), ('17237', 2), ('17978', 2), ('18273', 2), ('17494', 2), ('16535', 2), ('18194', 2), ('18119', 2), ('18311', 2), ('18312', 2), ('18327', 2), ('18316', 2), ('18303', 2), ('18347', 2), ('18033', 2), ('18246', 2), ('18229', 2), ('18324', 2), ('17376', 2), ('17981', 2), ('18340', 2), ('18032', 2), ('17946', 2), ('18378', 2), ('18248', 2), ('17541', 1), ('17283', 1), ('18411', 1), ('18024', 1)]\n"
     ]
    },
    {
     "data": {
      "text/plain": [
       "['16042',\n",
       " '18346',\n",
       " '18290',\n",
       " '17942',\n",
       " '18135',\n",
       " '17415',\n",
       " '10117',\n",
       " '18129',\n",
       " '17074',\n",
       " '17367',\n",
       " '17492',\n",
       " '16021',\n",
       " '18049',\n",
       " '18083',\n",
       " '18177',\n",
       " '18310',\n",
       " '17342',\n",
       " '16741',\n",
       " '16781',\n",
       " '18004',\n",
       " '18274',\n",
       " '17094',\n",
       " '17948',\n",
       " '17420',\n",
       " '18226',\n",
       " '18329',\n",
       " '18153',\n",
       " '18167',\n",
       " '17477',\n",
       " '15664',\n",
       " '18319',\n",
       " '17356',\n",
       " '16635',\n",
       " '17209',\n",
       " '16615',\n",
       " '17355',\n",
       " '102330',\n",
       " '17300',\n",
       " '18073',\n",
       " '18389',\n",
       " '18349',\n",
       " '17368',\n",
       " '17424',\n",
       " '16342',\n",
       " '18265',\n",
       " '17662',\n",
       " '18263',\n",
       " '17505',\n",
       " '16664',\n",
       " '18176',\n",
       " '16026',\n",
       " '18388',\n",
       " '17351',\n",
       " '17203',\n",
       " '16426',\n",
       " '16310',\n",
       " '18037',\n",
       " '17392',\n",
       " '16118',\n",
       " '18353',\n",
       " '18321',\n",
       " '18323',\n",
       " '18224',\n",
       " '15631',\n",
       " '16880',\n",
       " '18000',\n",
       " '17909',\n",
       " '16826',\n",
       " '17039',\n",
       " '18013',\n",
       " '17514',\n",
       " '18306',\n",
       " '17508',\n",
       " '16013',\n",
       " '17266',\n",
       " '17366',\n",
       " '17380',\n",
       " '16082',\n",
       " '18014',\n",
       " '15695',\n",
       " '16040',\n",
       " '17907',\n",
       " '17400',\n",
       " '17401',\n",
       " '17476',\n",
       " '17515',\n",
       " '17442',\n",
       " '17911',\n",
       " '17535',\n",
       " '16619',\n",
       " '16188',\n",
       " '15743',\n",
       " '17215',\n",
       " '16055',\n",
       " '17345',\n",
       " '18077',\n",
       " '17531',\n",
       " '18360',\n",
       " '17488',\n",
       " '17980',\n",
       " '17421',\n",
       " '16916',\n",
       " '18320',\n",
       " '18322',\n",
       " '18116',\n",
       " '18326',\n",
       " '17461',\n",
       " '18046',\n",
       " '18223']"
      ]
     },
     "metadata": {},
     "output_type": "display_data"
    }
   ],
   "source": [
    "df = pd.read_csv('data/cclogattributes_T_'+tenant+'.csv', encoding='utf-8')\n",
    "\n",
    "df_new = filter_df_by_time(df,'2022-12-20 09:44:23.030','2023-04-19 12:28:20.000')\n",
    "\n",
    "df_results_debitor, dc_sorted_df_debitor = get_data_values_complete_results(tenant, 'DEBITOR_NUM', df_new)\n",
    "outliers_results_debitor = get_outliers(df_results_debitor)\n",
    "outliers_results_debitor_frame = outliers_results_debitor.to_frame()\n",
    "\n",
    "sorted_counts, high_frequency_numbers_debitor = count_numbers_new(outliers_results_debitor_frame, 0, threshold=3)\n",
    "bad_vendors = []\n",
    "for entry in high_frequency_numbers_debitor:\n",
    "    df_results_vendor, dc_sorted_df_vendor = get_data_values_complete_results(tenant, 'VENDOR_NUM', dc_sorted_df_debitor[entry])\n",
    "    outliers_results_vendor = get_outliers(df_results_vendor)\n",
    "    outliers_results_vendor_frame = outliers_results_vendor.to_frame()\n",
    "    sorted_counts, high_frequency_numbers_vendor = count_numbers_new(outliers_results_vendor_frame, 0, threshold=3)\n",
    "    bad_vendors.append(high_frequency_numbers_vendor)\n",
    "    \n",
    "    display(entry)\n",
    "    print(sorted_counts)\n",
    "    display(high_frequency_numbers_vendor)  \n",
    "    \n",
    "\n",
    "    "
   ]
  },
  {
   "cell_type": "code",
   "execution_count": 183,
   "metadata": {},
   "outputs": [
    {
     "name": "stdout",
     "output_type": "stream",
     "text": [
      "[['16042', '18168', '16646', '10117', '18155', '18372', '16169', '17637', '15469', '15267', '16545', '18266', '17368', '10908', '15832', '17485', '18104', '10489', '10783', '10557', '10554', '10797', '10705', '17387', '18334', '14364'], ['10100', '10117', '10750', '17111', '17124', '10088', '17110', '10196', '16750', '17368', '10008', '10077', '10086', '17930', '10058', '10060', '15593', '16868', '15402', '16021', '16042', '16948', '18108', '17343', '15372', '10520', '10083', '10119', '18328', '101159', '10065', '15428', '10016', '10797', '12928', '17445', '10692', '10136', '18304', '10783', '16813', '10377', '10395', '10022', '17925', '10121', '16516', '10458', '17490', '14515', '10299', '10705', '14612', '18086', '16169', '10489', '16145', '15300'], ['18346', '16042', '18290', '17942', '18135', '17415', '10117', '18129', '17074', '17367', '17492', '18083', '18177', '18310', '17342', '16741', '16781', '18004', '18274', '16021', '18049', '17420', '18226', '18329', '18153', '18167', '17477', '15664', '18319', '17356', '16635', '17209', '16615', '17355', '102330', '17300', '17094', '18073', '18389', '17948', '17368', '17424', '18263', '17505', '16664', '18176', '16026', '18388', '17351', '17203', '16426', '16310', '18037', '17392', '16118', '18353', '18321', '18323', '18224', '18349', '15631', '16880', '18000', '17909', '16826', '17039', '18013', '17514', '17508', '16013', '17266', '17366', '17380', '16082', '18014', '15695', '16040', '17907', '17400', '17401', '17476', '17515', '17442', '17911', '17535', '16619', '16188', '15743', '17215', '16055', '17345', '18077', '17531', '18360', '17488', '17980', '17421', '16916', '18320', '18322', '18116', '18265', '17662', '18326', '17461', '18046', '16342', '18223']]\n"
     ]
    }
   ],
   "source": [
    "print(bad_vendors)"
   ]
  },
  {
   "attachments": {},
   "cell_type": "markdown",
   "metadata": {},
   "source": [
    "# Machine Learning\n"
   ]
  },
  {
   "attachments": {},
   "cell_type": "markdown",
   "metadata": {},
   "source": [
    "## Data preprocessing"
   ]
  },
  {
   "cell_type": "code",
   "execution_count": 54,
   "metadata": {},
   "outputs": [],
   "source": [
    "df = pd.read_csv('data/cclogattributes_T0012hb.csv', encoding='iso-8859-15')\n",
    "\n",
    "vergleiche_spalten = lambda x: 'master_data_error' if x['Attribute_Name'] == 'VENDOR_NUM' and x['Attribute_Before'] != x['Attribute_After'] else'good' if x['Delta'] == False and x['Type'] == 0 else 'undefined'\n",
    "#else 'master_data_error' if x['Attribute_Name'] == 'VENDOR_NAME' and x['Attribute_Before'] != x['Attribute_After'] \\\n",
    "#else 'master_data_error' if x['Attribute_Name'] == 'VENDOR_STR' and x['Attribute_Before'] != x['Attribute_After'] \\\n",
    "#else 'master_data_error' if x['Attribute_Name'] == 'VENDOR_CITY' and x['Attribute_Before'] != x['Attribute_After'] \\\n",
    "#else 'master_data_error' if x['Attribute_Name'] == 'VENDOR_ZIP_CODE' and x['Attribute_Before'] != x['Attribute_After'] \\\n",
    "\n",
    "df['Suggestion'] = df.apply(vergleiche_spalten, axis=1)\n",
    "\n",
    "df = df.drop('LogTimeTicks', axis=1)\n",
    "#df = df.drop('DocumentID', axis=1)\n",
    "\n",
    "df.to_csv('data/after_preprocessing.csv', index=False, header= True, encoding='iso-8859-15')\n",
    "\n",
    "X = df.loc[ : , df.columns != 'Suggestion']\n",
    "Y = df.loc[ : , df.columns == 'Suggestion']\n"
   ]
  },
  {
   "cell_type": "code",
   "execution_count": null,
   "metadata": {},
   "outputs": [],
   "source": [
    "def handle_non_numerical_data(df):\n",
    "    columns = df.columns.values\n",
    "    for column in columns:\n",
    "        text_digit_vals = {}\n",
    "        def convert_to_int(val):\n",
    "            return text_digit_vals[val]\n",
    "\n",
    "        if df[column].dtype != np.int64 and df[column].dtype != np.float64:\n",
    "            column_contents = df[column].values.tolist()\n",
    "            unique_elements = set(column_contents)\n",
    "            x = 0\n",
    "            for unique in unique_elements:\n",
    "                if unique not in text_digit_vals:\n",
    "                    text_digit_vals[unique] = x\n",
    "                    x+=1\n",
    "\n",
    "            df[column] = list(map(convert_to_int, df[column]))\n",
    "\n",
    "    return df\n",
    "\n",
    "X = handle_non_numerical_data(X)\n",
    "\n",
    "\n",
    "def Encoder(df):\n",
    "          columnsToEncode = list(df.select_dtypes(include=['category','object','bool']))\n",
    "          le = LabelEncoder()\n",
    "          for feature in columnsToEncode:\n",
    "              try:\n",
    "                  df[feature] = le.fit_transform(df[feature])\n",
    "              except:\n",
    "                  print('Error encoding '+feature)\n",
    "          return df\n",
    "\n",
    "\n",
    "Y = Encoder(Y)\n",
    "print(Y)\n",
    "pd.DataFrame(Y).to_csv(\"data/after_numerical.csv\")\n",
    "\n",
    "\n",
    "print(X)\n",
    "X.shape[0]\n",
    "Y.shape[0]"
   ]
  },
  {
   "cell_type": "code",
   "execution_count": 4,
   "metadata": {},
   "outputs": [],
   "source": [
    "#Create training and testing samples\n",
    "X_train, X_test, y_train, y_test = train_test_split(X, Y, test_size=0.2, random_state=None, shuffle=False)\n",
    "\n",
    "pd.DataFrame(y_train).to_csv(\"data/y_train.csv\")"
   ]
  },
  {
   "attachments": {},
   "cell_type": "markdown",
   "metadata": {},
   "source": [
    "## Create Model and Train"
   ]
  },
  {
   "cell_type": "code",
   "execution_count": 5,
   "metadata": {},
   "outputs": [],
   "source": [
    "def create_model(optimizer='adam', init='uniform'):\n",
    "    # create model\n",
    "    if verbose: print(\"**Create model with optimizer: %s; init: %s\" % (optimizer, init) )\n",
    "    model = Sequential()\n",
    "    model.add(Dense(16, input_dim=X_train.shape[1], kernel_initializer=init, activation='relu')) #\n",
    "    model.add(Dense(512, kernel_initializer=init, activation='relu'))\n",
    "    model.add(Dense(256, kernel_initializer=init, activation='relu'))\n",
    "    model.add(Dense(3, kernel_initializer=init, activation='softmax'))\n",
    "    # Compile model\n",
    "    model.compile(loss='sparse_categorical_crossentropy', optimizer=keras.optimizers.Adadelta(), metrics=['acc']) #keras.optimizers.Adadelta() and sparse_categorical_accuracy\n",
    "    return model"
   ]
  },
  {
   "cell_type": "code",
   "execution_count": 46,
   "metadata": {},
   "outputs": [],
   "source": [
    "run_gridsearch = False\n",
    "\n",
    "if run_gridsearch:\n",
    "    \n",
    "    start_time = time.time()\n",
    "    if verbose: print (time.strftime( \"%H:%M:%S \" + \"GridSearch started ... \" ) )\n",
    "    optimizers = ['rmsprop'] # , 'adam'\n",
    "    inits = ['glorot_uniform'] #, 'normal', 'uniform'\n",
    "    epochs = [5, 50, 100, 300]\n",
    "    batches = [5, 32, 64]\n",
    "    \n",
    "    model = KerasClassifier(build_fn=create_model, verbose=verbose)\n",
    "    \n",
    "    param_grid = dict(optimizer=optimizers, epochs=epochs, batch_size=batches, init=inits)\n",
    "    grid = GridSearchCV(estimator=model, param_grid=param_grid)\n",
    "    grid_result = grid.fit(X_train, y_train)\n",
    "\n",
    "    # summarize results\n",
    "    print(\"Best: %f using %s\" % (grid_result.best_score_, grid_result.best_params_))\n",
    "    means = grid_result.cv_results_['mean_test_score']\n",
    "    stds = grid_result.cv_results_['std_test_score']\n",
    "    params = grid_result.cv_results_['params']\n",
    "    if verbose: \n",
    "        for mean, stdev, param in zip(means, stds, params):\n",
    "            print(\"%f (%f) with: %r\" % (mean, stdev, param))\n",
    "        elapsed_time = time.time() - start_time  \n",
    "        print (\"Time elapsed: \",timedelta(seconds=elapsed_time))\n",
    "        \n",
    "    best_epochs = grid_result.best_params_['epochs']\n",
    "    best_batch_size = grid_result.best_params_['batch_size']\n",
    "    best_init = grid_result.best_params_['init']\n",
    "    best_optimizer = grid_result.best_params_['optimizer']\n",
    "    \n",
    "else:\n",
    "    # best paramters\n",
    "    best_epochs = 300\n",
    "    best_batch_size = 64\n",
    "    best_init = 'glorot_uniform'\n",
    "    best_optimizer = 'rmsprop'"
   ]
  },
  {
   "cell_type": "code",
   "execution_count": null,
   "metadata": {},
   "outputs": [],
   "source": [
    "results_df = pd.DataFrame(grid_result.cv_results_)\n",
    "pd.DataFrame(results_df).to_csv('data/grid_search_results.csv')\n",
    "results_df = results_df.sort_values(by=[\"rank_test_score\"])\n",
    "results_df = results_df.set_index(\n",
    "    results_df[\"params\"].apply(lambda x: \"_\".join(str(val) for val in x.values()))\n",
    ").rename_axis(\"kernel\")\n",
    "results_df[[\"params\", \"rank_test_score\", \"mean_test_score\", \"std_test_score\"]]"
   ]
  },
  {
   "cell_type": "code",
   "execution_count": null,
   "metadata": {},
   "outputs": [],
   "source": [
    "model_scores = results_df.filter(regex=r\"split\\d*_test_score\")\n",
    "\n",
    "# plot 30 examples of dependency between cv fold and AUC scores\n",
    "fig, ax = plt.subplots()\n",
    "sns.lineplot(\n",
    "    data=model_scores.transpose().iloc[:30],\n",
    "    dashes=False,\n",
    "    palette=\"Set1\",\n",
    "    marker=\"o\",\n",
    "    alpha=0.5,\n",
    "    ax=ax,\n",
    ")\n",
    "ax.set_xlabel(\"CV test fold\", size=12, labelpad=10)\n",
    "ax.set_ylabel(\"Model AUC\", size=12)\n",
    "ax.tick_params(bottom=True, labelbottom=False)\n",
    "ax.legend(loc=4, prop={'size': 6})\n",
    "\n",
    "plt.show()\n"
   ]
  },
  {
   "cell_type": "code",
   "execution_count": null,
   "metadata": {},
   "outputs": [],
   "source": [
    "model_pred = KerasClassifier(build_fn=create_model, optimizer=best_optimizer, init=best_init, epochs=best_epochs, batch_size=best_batch_size, verbose=verbose)\n",
    "model_pred.fit(X_train, y_train)\n",
    "\n",
    "prediction = model_pred.predict(X_test)"
   ]
  },
  {
   "attachments": {},
   "cell_type": "markdown",
   "metadata": {},
   "source": [
    "# Evaluation"
   ]
  },
  {
   "cell_type": "code",
   "execution_count": null,
   "metadata": {},
   "outputs": [],
   "source": [
    "print(classification_report(y_test, prediction, zero_division=False))\n",
    "accuracy_score(y_test, prediction)"
   ]
  },
  {
   "cell_type": "code",
   "execution_count": null,
   "metadata": {},
   "outputs": [],
   "source": [
    "print(prediction)\n",
    "pd.DataFrame(prediction).to_csv('data/prediction.csv')"
   ]
  },
  {
   "cell_type": "code",
   "execution_count": 50,
   "metadata": {},
   "outputs": [],
   "source": [
    "pickle.dump(model_pred, open('models/classification_model.h5', 'wb'))"
   ]
  },
  {
   "cell_type": "code",
   "execution_count": null,
   "metadata": {},
   "outputs": [],
   "source": [
    "with open('models/classification_model.h5', 'rb') as pickle_file:\n",
    "    content = pickle.load(pickle_file)\n",
    "\n",
    "prediction = content.predict(X_test)\n",
    "print(classification_report(y_test, prediction, zero_division=False))\n"
   ]
  },
  {
   "cell_type": "code",
   "execution_count": null,
   "metadata": {},
   "outputs": [],
   "source": [
    "import pyautogui\n",
    "import time\n",
    "while True:\n",
    "    for i in range(0,100):\n",
    "        pyautogui.moveTo(10,10)\n",
    "        pyautogui.leftClick()\n",
    "        pyautogui.moveTo(1000,1000)\n",
    "        pyautogui.leftClick()\n",
    "\n",
    "        time.sleep(2)"
   ]
  }
 ],
 "metadata": {
  "kernelspec": {
   "display_name": "Python 3",
   "language": "python",
   "name": "python3"
  },
  "language_info": {
   "codemirror_mode": {
    "name": "ipython",
    "version": 3
   },
   "file_extension": ".py",
   "mimetype": "text/x-python",
   "name": "python",
   "nbconvert_exporter": "python",
   "pygments_lexer": "ipython3",
   "version": "3.11.2"
  },
  "orig_nbformat": 4,
  "vscode": {
   "interpreter": {
    "hash": "59d736765ce23fba7eae8e4973aae525338b5974b741b35ab5c702ed8c74548c"
   }
  }
 },
 "nbformat": 4,
 "nbformat_minor": 2
}
